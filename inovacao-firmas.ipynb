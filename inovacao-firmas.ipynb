{
  "cells": [
    {
      "cell_type": "markdown",
      "metadata": {},
      "source": [
        "### Machine Learning Aplicado à Propensão a Inovar das Empresas Latinoamericanas\n",
        "Andrew da Costa Marques, Tatiana Escovedo\n"
      ]
    },
    {
      "cell_type": "markdown",
      "metadata": {},
      "source": [
        "A inovação é o motor do desenvolvimento econômico, social e sustentável dos países, mobilizando significativos recursos dos setores privado e público, incluindo diferentes mecanismos de apoio governamental à inovação, tais como incentivos fiscais e linhas especiais de crédito. Este trabalho objetiva a construção de modelo acerca da propensão de uma empresa inovar, o que pode contribuir para o aperfeiçoamento da execução de políticas públicas relacionadas à promoção da inovação. Para tanto, foram aplicadas técnicas de machine learning em dados coletados entre 2007 e 2017 de cinco países da América do Sul mais assemelhados ao cenário brasileiro disponíveis no Harmonized Latin American Innovation Surveys Database - Argentina, Chile, Colômbia, Peru e Uruguai, considerando variados algoritmos de aprendizado supervisionado - LightGBM, Random Forest, Ridge, Support Vector Machines (SVM) e K-Nearest Neighbors (KNN). Com base nos experimentos realizados, foi construído modelo com 84% de precisão quanto à introdução de inovação por uma empresa, resultado que sofre ligeiras variações por setor econômico e país, mas preserva razoável capacidade preditiva, tendo sido identificadas as principais features do modelo. Considerando somente inovações com impacto no mercado, país ou mundo, ignorando as inovações restritas ao escopo da própria firma, foi construído modelo com 96% de precisão quanto às empresas que não conseguiriam inovar. A utilização de dados de diferentes países e períodos colabora para a construção de modelo preditivo que considere os aspectos mais transversais da inovação na região, a despeito das particularidades nacionais. Os resultados alcançados neste estudo parecem suficientemente animadores para encorajar novos trabalhos que objetivem a construção de modelos semelhantes parametrizados conforme a realidade brasileira e que possam colaborar para a ampliação da taxa de inovação no país e, em última instância, para o fortalecimento do Sistema Nacional de Inovação. \n"
      ]
    },
    {
      "cell_type": "code",
      "execution_count": null,
      "metadata": {
        "colab": {
          "base_uri": "https://localhost:8080/"
        },
        "id": "dE1Fk_-ySYtR",
        "outputId": "c17952d1-1b03-4a4e-c179-ab3e67e64f80"
      },
      "outputs": [],
      "source": [
        "!pip install pycaret"
      ]
    },
    {
      "cell_type": "code",
      "execution_count": 2,
      "metadata": {
        "id": "qx4AULzi6Ixf"
      },
      "outputs": [],
      "source": [
        "# Imports\n",
        "import warnings\n",
        "warnings.filterwarnings(\"ignore\")\n",
        "\n",
        "import pandas as pd\n",
        "import numpy as np\n",
        "from matplotlib import pyplot as plt\n",
        "import seaborn as sns\n",
        "import pycaret\n",
        "from sklearn.metrics import precision_score,recall_score,f1_score\n",
        "\n",
        "np.random.seed(42) #seed global\n",
        "\n",
        "\n",
        "%matplotlib inline\n",
        "%config InlineBackend.figure_format = 'svg' \n",
        "pd.set_option(\"display.max_columns\", None) #sem limite de colunas mostradas pelo pandas"
      ]
    },
    {
      "cell_type": "markdown",
      "metadata": {
        "id": "0yVzxNxy6Ixm"
      },
      "source": [
        "### CARGA"
      ]
    },
    {
      "cell_type": "markdown",
      "metadata": {
        "id": "obMhpTC09j07"
      },
      "source": [
        "Em virtude da dimensionalidade do *dataset* completo, foi feita uma filtragem manual dos atributos a fim de manter apenas aqueles relevantes e logicamente precedentes à introdução da inovação. \n",
        "\n",
        "Foram desconsideradas, por exemplo, questões relacionadas a patentes, pois poderiam induzir a um vazamento de informações sobre o alvo (*data leakage*). Pela mesma razão, foi desconsiderada a variável indicadora de projetos de inovação abandonados (*dabandia*). Outras variáveis foram ignoradas pela redundância de informações, como a indicadora de atividades de inovação em progresso (*dongoingia*). \n"
      ]
    },
    {
      "cell_type": "code",
      "execution_count": 8,
      "metadata": {
        "id": "w5Z6XlZL6Ixr"
      },
      "outputs": [],
      "source": [
        "\n",
        "features = {'country': 'str','exp_f': 'float','year': 'int',\n",
        "            'isic3_1d': 'str','sales_us_Y1': 'float','sales_us_Y2': 'float',\n",
        "            'sales_us_Y3': 'float','export_us_Y1': 'float','export_us_Y2': 'float','export_us_Y3': 'float',\n",
        "            'dexport': 'bool','empl_Y1': 'int','empl_Y2': 'int','empl_Y3': 'int',\n",
        "            'phd_Y1': 'float','phd_Y2': 'float','phd_Y3': 'float','master_Y1': 'float','master_Y2': 'float','master_Y3': 'float',\n",
        "            'postgrad_Y1': 'float','postgrad_Y2': 'float','postgrad_Y3': 'float','undergrad_Y1': 'float',\n",
        "            'undergrad_Y2': 'float','undergrad_Y3': 'float','unidegree_Y1': 'float','unidegree_Y2': 'float','unidegree_Y3': 'float',\n",
        "            'degree_nesc': 'float','degree_et': 'float','degree_ingnesc': 'float','degree_ssc': 'float','degree_medsc': 'float',\n",
        "            'degree_agrsc': 'float','degree_hum': 'float','nontert_Y1': 'float','nontert_Y2': 'float','nontert_Y3': 'float',\n",
        "            'second_Y1': 'float','second_Y2': 'float','second_Y3': 'float','RD_empl': 'int','ict_mach_us_Y1': 'float',\n",
        "            'IPexp_us_Y1': 'float','ict_mach_us_Y2': 'float','IPexp_us_Y2': 'float','drdintexp': 'int','drdextexp': 'float','dictexp': 'float',\n",
        "            'dmachexp': 'float','dict_mach': 'int','dTTexp': 'int','dconexp': 'int','dIPexp': 'int','dtrainexp': 'int',\n",
        "            'dIDexp': 'int','dmktexp': 'int','dinnpd': 'int','dinnpc': 'int','innpd_scp':'int','innpc_scp':'int'\n",
        "}\n",
        "\n",
        "df_og = pd.read_csv('./data/raw/LAIS_public.csv', usecols=features.keys())\n",
        "\n"
      ]
    },
    {
      "cell_type": "markdown",
      "metadata": {},
      "source": [
        "A LAIS não apresenta dados oriundos do Brasil. Não se ignora, contudo, que a inovação é influenciada, em cada país, pelas suas particularidades socioeconômicas, culturais e políticas e pelo contexto institucional.\n",
        "\n",
        "Buscando a criação de um modelo mais aderente à realidade brasileira, foram selecionados os cinco países da América do Sul incluídos na LAIS (presumindo serem mais semelhantes ao Brasil do que países da América Central) que obtiveram notas mais próximas àquelas atribuídas ao Brasil considerando cada uma das 14 edições do Global Innovation Index, publicadas entre 2007 e 2021, quais sejam: Argentina, Colômbia, Peru, Uruguai e Chile. Estes países são os mesmos da América do Sul selecionados pela Confederação Nacional da Indústria no relatório “Competitividade Brasil”, com exceção do Uruguai. Portanto, dos países da América do Sul com dados na LAIS, não foram considerados o Paraguai e o Equador.\n",
        "\n",
        "Estes tratamentos combinados resultaram em um dataset intermediário com 107.280 linhas e 62 colunas."
      ]
    },
    {
      "cell_type": "code",
      "execution_count": 4,
      "metadata": {},
      "outputs": [
        {
          "data": {
            "text/plain": [
              "(107280, 62)"
            ]
          },
          "execution_count": 4,
          "metadata": {},
          "output_type": "execute_result"
        }
      ],
      "source": [
        "#filtragem dos países\n",
        "countries = ['Argentina','Colombia','Uruguay','Peru','Chile']\n",
        "df_og = df_og.query('country in @countries')\n",
        "\n",
        "#dimensões do dataset\n",
        "df_og.shape"
      ]
    },
    {
      "cell_type": "markdown",
      "metadata": {
        "id": "IEmTCCaG9yCu"
      },
      "source": [
        "Em função do problema definido, e tendo em vista o conceito de inovação definido no Manual de Oslo, foi criada a variável dependente a ser prevista - *dinn* - a partir do agrupamento das variáveis *dinnpd* e *dinnpc*, que indicam inovações a nível de produto e a nível de processo, respectivamente."
      ]
    },
    {
      "cell_type": "code",
      "execution_count": 5,
      "metadata": {
        "id": "s0YDI6Hz9pNV"
      },
      "outputs": [],
      "source": [
        "df_dinn = df_og.copy()\n",
        "\n",
        "df_dinn['dinn'] = 0\n",
        "df_dinn.dinnpd = df_dinn.dinnpd.astype('Int32')\n",
        "df_dinn.dinnpc = df_dinn.dinnpc.astype('Int32')\n",
        "df_dinn.loc[(df_dinn.dinnpd==1) | (df_dinn.dinnpc==1),'dinn']=1\n",
        "\n",
        "df_dinn.drop(['dinnpd','dinnpc','innpd_scp', 'innpc_scp'],axis=1,inplace=True)\n",
        "\n",
        "df_dinn.to_csv('./data/processed/dinn_dataset.csv',index=False)\n"
      ]
    },
    {
      "cell_type": "markdown",
      "metadata": {
        "id": "LLmXfVON9xed"
      },
      "source": [
        "Uma vez que a atuação governamental pode buscar fomentar inovações com maior impacto para o mercado, foi definida variável dependente alternativa, que trata do escopo / alcance da inovação - nacional / internacional ou só para a firma.\n",
        "\n",
        "Assim, foi criada a variável *dinn_scp*, que é a união das variáveis *innpd_scp* e *innpc_scp*, indicadoras do escopo da inovação de produto ou processo. Estas variáveis se aplicam apenas a firmas que inovaram no período referencial e admitem quatro valores: *firm, market, country, world*. Para os três últimos valores, a *dinn_scp* assume o valor 1, enquanto assume o valor 0 para *firm* e em instâncias nulas (não houve inovação). \n"
      ]
    },
    {
      "cell_type": "code",
      "execution_count": 6,
      "metadata": {
        "id": "nykEA7s39oz_"
      },
      "outputs": [],
      "source": [
        "df_dinnscp = df_og.copy()\n",
        "df_dinnscp.replace({'innpd_scp':['Country','World','Market'], 'innpc_scp':['Country','World','Market']},1,inplace=True)\n",
        "df_dinnscp.replace({'innpd_scp':['Firm',np.nan], 'innpc_scp':['Firm',np.nan]},0,inplace=True)\n",
        "df_dinnscp['dinn_scp'] = df_dinnscp['innpd_scp'] + df_dinnscp['innpc_scp']\n",
        "df_dinnscp.replace({'dinn_scp':2},1,inplace=True)\n",
        "\n",
        "df_dinnscp.drop(['innpd_scp','innpc_scp'],axis=1,inplace=True)\n",
        "\n",
        "df_dinnscp.to_csv('./data/processed/dinn_scp_dataset.csv',index=False)"
      ]
    },
    {
      "cell_type": "markdown",
      "metadata": {
        "id": "D57hbR396Iyf"
      },
      "source": [
        "### Análise de Dados"
      ]
    },
    {
      "cell_type": "markdown",
      "metadata": {
        "id": "pminNN9XOJ1M"
      },
      "source": [
        "Optou-se pela utilização dos dados constantes na LAIS de todas as edições de pesquisa - 2007 a 2017. Buscou-se, assim, mitigar o eventual efeito nos dados da conjuntura socioeconômica dos países selecionados em cada momento de coleta dos dados da LAIS.\n",
        "\n",
        "Em se tratando de horizonte temporal extenso, é importante verificar o comportamento das features ao longo do tempo, tendo em vista as mudanças no ambiente da inovação ocorridas no período. Para tanto, foi analisada a correlação de Pearson das features com a variável dependente. De modo geral, observa-se que não foram identificadas discrepâncias importantes, dado que a correlação das features com inovação permaneceu relativamente estável, de tal sorte que a variável year foi desconsiderada."
      ]
    },
    {
      "cell_type": "code",
      "execution_count": 7,
      "metadata": {
        "id": "imc496Ko6Iyg"
      },
      "outputs": [
        {
          "data": {
            "image/svg+xml": "<?xml version=\"1.0\" encoding=\"utf-8\" standalone=\"no\"?>\n<!DOCTYPE svg PUBLIC \"-//W3C//DTD SVG 1.1//EN\"\n  \"http://www.w3.org/Graphics/SVG/1.1/DTD/svg11.dtd\">\n<svg xmlns:xlink=\"http://www.w3.org/1999/xlink\" width=\"392.088867pt\" height=\"259.871348pt\" viewBox=\"0 0 392.088867 259.871348\" xmlns=\"http://www.w3.org/2000/svg\" version=\"1.1\">\n <metadata>\n  <rdf:RDF xmlns:dc=\"http://purl.org/dc/elements/1.1/\" xmlns:cc=\"http://creativecommons.org/ns#\" xmlns:rdf=\"http://www.w3.org/1999/02/22-rdf-syntax-ns#\">\n   <cc:Work>\n    <dc:type rdf:resource=\"http://purl.org/dc/dcmitype/StillImage\"/>\n    <dc:date>2022-09-29T10:09:49.869580</dc:date>\n    <dc:format>image/svg+xml</dc:format>\n    <dc:creator>\n     <cc:Agent>\n      <dc:title>Matplotlib v3.5.2, https://matplotlib.org/</dc:title>\n     </cc:Agent>\n    </dc:creator>\n   </cc:Work>\n  </rdf:RDF>\n </metadata>\n <defs>\n  <style type=\"text/css\">*{stroke-linejoin: round; stroke-linecap: butt}</style>\n </defs>\n <g id=\"figure_1\">\n  <g id=\"patch_1\">\n   <path d=\"M -0 259.871348 \nL 392.088867 259.871348 \nL 392.088867 0 \nL -0 0 \nz\n\" style=\"fill: #ffffff\"/>\n  </g>\n  <g id=\"axes_1\">\n   <g id=\"patch_2\">\n    <path d=\"M 50.088867 229.863926 \nL 384.888867 229.863926 \nL 384.888867 12.423926 \nL 50.088867 12.423926 \nz\n\" style=\"fill: #ffffff\"/>\n   </g>\n   <g id=\"matplotlib.axis_1\">\n    <g id=\"xtick_1\">\n     <g id=\"text_1\">\n      <!-- 2008 -->\n      <g style=\"fill: #262626\" transform=\"translate(78.246538 249.811777)scale(0.1375 -0.1375)\">\n       <defs>\n        <path id=\"DejaVuSans-32\" d=\"M 1228 531 \nL 3431 531 \nL 3431 0 \nL 469 0 \nL 469 531 \nQ 828 903 1448 1529 \nQ 2069 2156 2228 2338 \nQ 2531 2678 2651 2914 \nQ 2772 3150 2772 3378 \nQ 2772 3750 2511 3984 \nQ 2250 4219 1831 4219 \nQ 1534 4219 1204 4116 \nQ 875 4013 500 3803 \nL 500 4441 \nQ 881 4594 1212 4672 \nQ 1544 4750 1819 4750 \nQ 2544 4750 2975 4387 \nQ 3406 4025 3406 3419 \nQ 3406 3131 3298 2873 \nQ 3191 2616 2906 2266 \nQ 2828 2175 2409 1742 \nQ 1991 1309 1228 531 \nz\n\" transform=\"scale(0.015625)\"/>\n        <path id=\"DejaVuSans-30\" d=\"M 2034 4250 \nQ 1547 4250 1301 3770 \nQ 1056 3291 1056 2328 \nQ 1056 1369 1301 889 \nQ 1547 409 2034 409 \nQ 2525 409 2770 889 \nQ 3016 1369 3016 2328 \nQ 3016 3291 2770 3770 \nQ 2525 4250 2034 4250 \nz\nM 2034 4750 \nQ 2819 4750 3233 4129 \nQ 3647 3509 3647 2328 \nQ 3647 1150 3233 529 \nQ 2819 -91 2034 -91 \nQ 1250 -91 836 529 \nQ 422 1150 422 2328 \nQ 422 3509 836 4129 \nQ 1250 4750 2034 4750 \nz\n\" transform=\"scale(0.015625)\"/>\n        <path id=\"DejaVuSans-38\" d=\"M 2034 2216 \nQ 1584 2216 1326 1975 \nQ 1069 1734 1069 1313 \nQ 1069 891 1326 650 \nQ 1584 409 2034 409 \nQ 2484 409 2743 651 \nQ 3003 894 3003 1313 \nQ 3003 1734 2745 1975 \nQ 2488 2216 2034 2216 \nz\nM 1403 2484 \nQ 997 2584 770 2862 \nQ 544 3141 544 3541 \nQ 544 4100 942 4425 \nQ 1341 4750 2034 4750 \nQ 2731 4750 3128 4425 \nQ 3525 4100 3525 3541 \nQ 3525 3141 3298 2862 \nQ 3072 2584 2669 2484 \nQ 3125 2378 3379 2068 \nQ 3634 1759 3634 1313 \nQ 3634 634 3220 271 \nQ 2806 -91 2034 -91 \nQ 1263 -91 848 271 \nQ 434 634 434 1313 \nQ 434 1759 690 2068 \nQ 947 2378 1403 2484 \nz\nM 1172 3481 \nQ 1172 3119 1398 2916 \nQ 1625 2713 2034 2713 \nQ 2441 2713 2670 2916 \nQ 2900 3119 2900 3481 \nQ 2900 3844 2670 4047 \nQ 2441 4250 2034 4250 \nQ 1625 4250 1398 4047 \nQ 1172 3844 1172 3481 \nz\n\" transform=\"scale(0.015625)\"/>\n       </defs>\n       <use xlink:href=\"#DejaVuSans-32\"/>\n       <use xlink:href=\"#DejaVuSans-30\" x=\"63.623047\"/>\n       <use xlink:href=\"#DejaVuSans-30\" x=\"127.246094\"/>\n       <use xlink:href=\"#DejaVuSans-38\" x=\"190.869141\"/>\n      </g>\n     </g>\n    </g>\n    <g id=\"xtick_2\">\n     <g id=\"text_2\">\n      <!-- 2010 -->\n      <g style=\"fill: #262626\" transform=\"translate(139.119265 249.811777)scale(0.1375 -0.1375)\">\n       <defs>\n        <path id=\"DejaVuSans-31\" d=\"M 794 531 \nL 1825 531 \nL 1825 4091 \nL 703 3866 \nL 703 4441 \nL 1819 4666 \nL 2450 4666 \nL 2450 531 \nL 3481 531 \nL 3481 0 \nL 794 0 \nL 794 531 \nz\n\" transform=\"scale(0.015625)\"/>\n       </defs>\n       <use xlink:href=\"#DejaVuSans-32\"/>\n       <use xlink:href=\"#DejaVuSans-30\" x=\"63.623047\"/>\n       <use xlink:href=\"#DejaVuSans-31\" x=\"127.246094\"/>\n       <use xlink:href=\"#DejaVuSans-30\" x=\"190.869141\"/>\n      </g>\n     </g>\n    </g>\n    <g id=\"xtick_3\">\n     <g id=\"text_3\">\n      <!-- 2012 -->\n      <g style=\"fill: #262626\" transform=\"translate(199.991992 249.811777)scale(0.1375 -0.1375)\">\n       <use xlink:href=\"#DejaVuSans-32\"/>\n       <use xlink:href=\"#DejaVuSans-30\" x=\"63.623047\"/>\n       <use xlink:href=\"#DejaVuSans-31\" x=\"127.246094\"/>\n       <use xlink:href=\"#DejaVuSans-32\" x=\"190.869141\"/>\n      </g>\n     </g>\n    </g>\n    <g id=\"xtick_4\">\n     <g id=\"text_4\">\n      <!-- 2014 -->\n      <g style=\"fill: #262626\" transform=\"translate(260.864719 249.811777)scale(0.1375 -0.1375)\">\n       <defs>\n        <path id=\"DejaVuSans-34\" d=\"M 2419 4116 \nL 825 1625 \nL 2419 1625 \nL 2419 4116 \nz\nM 2253 4666 \nL 3047 4666 \nL 3047 1625 \nL 3713 1625 \nL 3713 1100 \nL 3047 1100 \nL 3047 0 \nL 2419 0 \nL 2419 1100 \nL 313 1100 \nL 313 1709 \nL 2253 4666 \nz\n\" transform=\"scale(0.015625)\"/>\n       </defs>\n       <use xlink:href=\"#DejaVuSans-32\"/>\n       <use xlink:href=\"#DejaVuSans-30\" x=\"63.623047\"/>\n       <use xlink:href=\"#DejaVuSans-31\" x=\"127.246094\"/>\n       <use xlink:href=\"#DejaVuSans-34\" x=\"190.869141\"/>\n      </g>\n     </g>\n    </g>\n    <g id=\"xtick_5\">\n     <g id=\"text_5\">\n      <!-- 2016 -->\n      <g style=\"fill: #262626\" transform=\"translate(321.737447 249.811777)scale(0.1375 -0.1375)\">\n       <defs>\n        <path id=\"DejaVuSans-36\" d=\"M 2113 2584 \nQ 1688 2584 1439 2293 \nQ 1191 2003 1191 1497 \nQ 1191 994 1439 701 \nQ 1688 409 2113 409 \nQ 2538 409 2786 701 \nQ 3034 994 3034 1497 \nQ 3034 2003 2786 2293 \nQ 2538 2584 2113 2584 \nz\nM 3366 4563 \nL 3366 3988 \nQ 3128 4100 2886 4159 \nQ 2644 4219 2406 4219 \nQ 1781 4219 1451 3797 \nQ 1122 3375 1075 2522 \nQ 1259 2794 1537 2939 \nQ 1816 3084 2150 3084 \nQ 2853 3084 3261 2657 \nQ 3669 2231 3669 1497 \nQ 3669 778 3244 343 \nQ 2819 -91 2113 -91 \nQ 1303 -91 875 529 \nQ 447 1150 447 2328 \nQ 447 3434 972 4092 \nQ 1497 4750 2381 4750 \nQ 2619 4750 2861 4703 \nQ 3103 4656 3366 4563 \nz\n\" transform=\"scale(0.015625)\"/>\n       </defs>\n       <use xlink:href=\"#DejaVuSans-32\"/>\n       <use xlink:href=\"#DejaVuSans-30\" x=\"63.623047\"/>\n       <use xlink:href=\"#DejaVuSans-31\" x=\"127.246094\"/>\n       <use xlink:href=\"#DejaVuSans-36\" x=\"190.869141\"/>\n      </g>\n     </g>\n    </g>\n   </g>\n   <g id=\"matplotlib.axis_2\">\n    <g id=\"ytick_1\">\n     <g id=\"text_6\">\n      <!-- −0.2 -->\n      <g style=\"fill: #262626\" transform=\"translate(7.2 218.361698)scale(0.1375 -0.1375)\">\n       <defs>\n        <path id=\"DejaVuSans-2212\" d=\"M 678 2272 \nL 4684 2272 \nL 4684 1741 \nL 678 1741 \nL 678 2272 \nz\n\" transform=\"scale(0.015625)\"/>\n        <path id=\"DejaVuSans-2e\" d=\"M 684 794 \nL 1344 794 \nL 1344 0 \nL 684 0 \nL 684 794 \nz\n\" transform=\"scale(0.015625)\"/>\n       </defs>\n       <use xlink:href=\"#DejaVuSans-2212\"/>\n       <use xlink:href=\"#DejaVuSans-30\" x=\"83.789062\"/>\n       <use xlink:href=\"#DejaVuSans-2e\" x=\"147.412109\"/>\n       <use xlink:href=\"#DejaVuSans-32\" x=\"179.199219\"/>\n      </g>\n     </g>\n    </g>\n    <g id=\"ytick_2\">\n     <g id=\"text_7\">\n      <!-- 0.0 -->\n      <g style=\"fill: #262626\" transform=\"translate(18.72207 184.90939)scale(0.1375 -0.1375)\">\n       <use xlink:href=\"#DejaVuSans-30\"/>\n       <use xlink:href=\"#DejaVuSans-2e\" x=\"63.623047\"/>\n       <use xlink:href=\"#DejaVuSans-30\" x=\"95.410156\"/>\n      </g>\n     </g>\n    </g>\n    <g id=\"ytick_3\">\n     <g id=\"text_8\">\n      <!-- 0.2 -->\n      <g style=\"fill: #262626\" transform=\"translate(18.72207 151.457082)scale(0.1375 -0.1375)\">\n       <use xlink:href=\"#DejaVuSans-30\"/>\n       <use xlink:href=\"#DejaVuSans-2e\" x=\"63.623047\"/>\n       <use xlink:href=\"#DejaVuSans-32\" x=\"95.410156\"/>\n      </g>\n     </g>\n    </g>\n    <g id=\"ytick_4\">\n     <g id=\"text_9\">\n      <!-- 0.4 -->\n      <g style=\"fill: #262626\" transform=\"translate(18.72207 118.004775)scale(0.1375 -0.1375)\">\n       <use xlink:href=\"#DejaVuSans-30\"/>\n       <use xlink:href=\"#DejaVuSans-2e\" x=\"63.623047\"/>\n       <use xlink:href=\"#DejaVuSans-34\" x=\"95.410156\"/>\n      </g>\n     </g>\n    </g>\n    <g id=\"ytick_5\">\n     <g id=\"text_10\">\n      <!-- 0.6 -->\n      <g style=\"fill: #262626\" transform=\"translate(18.72207 84.552467)scale(0.1375 -0.1375)\">\n       <use xlink:href=\"#DejaVuSans-30\"/>\n       <use xlink:href=\"#DejaVuSans-2e\" x=\"63.623047\"/>\n       <use xlink:href=\"#DejaVuSans-36\" x=\"95.410156\"/>\n      </g>\n     </g>\n    </g>\n    <g id=\"ytick_6\">\n     <g id=\"text_11\">\n      <!-- 0.8 -->\n      <g style=\"fill: #262626\" transform=\"translate(18.72207 51.100159)scale(0.1375 -0.1375)\">\n       <use xlink:href=\"#DejaVuSans-30\"/>\n       <use xlink:href=\"#DejaVuSans-2e\" x=\"63.623047\"/>\n       <use xlink:href=\"#DejaVuSans-38\" x=\"95.410156\"/>\n      </g>\n     </g>\n    </g>\n    <g id=\"ytick_7\">\n     <g id=\"text_12\">\n      <!-- 1.0 -->\n      <g style=\"fill: #262626\" transform=\"translate(18.72207 17.647852)scale(0.1375 -0.1375)\">\n       <use xlink:href=\"#DejaVuSans-31\"/>\n       <use xlink:href=\"#DejaVuSans-2e\" x=\"63.623047\"/>\n       <use xlink:href=\"#DejaVuSans-30\" x=\"95.410156\"/>\n      </g>\n     </g>\n    </g>\n   </g>\n   <g id=\"line2d_1\">\n    <path d=\"M 65.307049 139.784081 \nL 126.179776 203.173954 \nL 156.61614 169.228303 \nL 187.052504 201.929338 \nL 217.488867 156.367368 \nL 247.925231 153.556529 \nL 308.797958 169.416169 \nL 339.234322 150.770041 \nL 369.670685 153.244887 \n\" clip-path=\"url(#p64a6dc8828)\" style=\"fill: none; stroke-dasharray: 9.6,2.4,1.5,2.4; stroke-dashoffset: 0; stroke: #1f77b4; stroke-width: 1.5\"/>\n   </g>\n   <g id=\"line2d_2\">\n    <path d=\"M 126.179776 167.28856 \nL 156.61614 152.128439 \nL 187.052504 167.966201 \nL 217.488867 143.189262 \nL 247.925231 177.426963 \nL 278.361594 142.726226 \nL 308.797958 168.344185 \nL 339.234322 142.795529 \nL 369.670685 183.579109 \n\" clip-path=\"url(#p64a6dc8828)\" style=\"fill: none; stroke-dasharray: 9.6,2.4,1.5,2.4; stroke-dashoffset: 0; stroke: #ff7f0e; stroke-width: 1.5\"/>\n   </g>\n   <g id=\"line2d_3\">\n    <path d=\"M 126.179776 167.045625 \nL 156.61614 153.238449 \nL 187.052504 167.689092 \nL 217.488867 142.609031 \nL 247.925231 176.714216 \nL 278.361594 142.459356 \nL 308.797958 168.749685 \nL 339.234322 142.576307 \nL 369.670685 182.847079 \n\" clip-path=\"url(#p64a6dc8828)\" style=\"fill: none; stroke-dasharray: 9.6,2.4,1.5,2.4; stroke-dashoffset: 0; stroke: #2ca02c; stroke-width: 1.5\"/>\n   </g>\n   <g id=\"line2d_4\">\n    <path d=\"M 65.307049 218.291247 \nL 126.179776 189.052864 \nL 156.61614 206.297232 \nL 187.052504 187.350733 \nL 217.488867 196.09472 \nL 247.925231 201.756924 \nL 308.797958 190.314749 \nL 339.234322 215.16157 \nL 369.670685 171.338171 \n\" clip-path=\"url(#p64a6dc8828)\" style=\"fill: none; stroke-dasharray: 9.6,2.4,1.5,2.4; stroke-dashoffset: 0; stroke: #d62728; stroke-width: 1.5\"/>\n   </g>\n   <g id=\"line2d_5\">\n    <path d=\"M 65.307049 80.789426 \nL 126.179776 37.924113 \nL 156.61614 70.821963 \nL 187.052504 42.642641 \nL 217.488867 60.538101 \nL 247.925231 50.137592 \nL 278.361594 73.083426 \nL 308.797958 53.170963 \nL 339.234322 71.925549 \nL 369.670685 59.399547 \n\" clip-path=\"url(#p64a6dc8828)\" style=\"fill: none; stroke-dasharray: 9.6,2.4,1.5,2.4; stroke-dashoffset: 0; stroke: #9467bd; stroke-width: 1.5\"/>\n   </g>\n   <g id=\"line2d_6\">\n    <path d=\"M 65.307049 148.345821 \nL 126.179776 159.250512 \nL 156.61614 141.772372 \nL 187.052504 161.387726 \nL 217.488867 141.607081 \nL 247.925231 140.234578 \nL 278.361594 173.846761 \nL 308.797958 139.469254 \nL 339.234322 157.452677 \nL 369.670685 144.613936 \n\" clip-path=\"url(#p64a6dc8828)\" style=\"fill: none; stroke-dasharray: 9.6,2.4,1.5,2.4; stroke-dashoffset: 0; stroke: #8c564b; stroke-width: 1.5\"/>\n   </g>\n   <g id=\"line2d_7\">\n    <path d=\"M 126.179776 193.240328 \nL 156.61614 206.626515 \nL 187.052504 192.0283 \nL 217.488867 213.366311 \nL 247.925231 197.9282 \nL 278.361594 215.296581 \nL 308.797958 185.968287 \nL 339.234322 216.888563 \nL 369.670685 195.577134 \n\" clip-path=\"url(#p64a6dc8828)\" style=\"fill: none; stroke-dasharray: 9.6,2.4,1.5,2.4; stroke-dashoffset: 0; stroke: #e377c2; stroke-width: 1.5\"/>\n   </g>\n   <g id=\"patch_3\">\n    <path d=\"M 50.088867 229.863926 \nL 50.088867 12.423926 \n\" style=\"fill: none; stroke: #262626; stroke-width: 1.25; stroke-linejoin: miter; stroke-linecap: square\"/>\n   </g>\n   <g id=\"patch_4\">\n    <path d=\"M 384.888867 229.863926 \nL 384.888867 12.423926 \n\" style=\"fill: none; stroke: #262626; stroke-width: 1.25; stroke-linejoin: miter; stroke-linecap: square\"/>\n   </g>\n   <g id=\"patch_5\">\n    <path d=\"M 50.088867 229.863926 \nL 384.888867 229.863926 \n\" style=\"fill: none; stroke: #262626; stroke-width: 1.25; stroke-linejoin: miter; stroke-linecap: square\"/>\n   </g>\n   <g id=\"patch_6\">\n    <path d=\"M 50.088867 12.423926 \nL 384.888867 12.423926 \n\" style=\"fill: none; stroke: #262626; stroke-width: 1.25; stroke-linejoin: miter; stroke-linecap: square\"/>\n   </g>\n  </g>\n </g>\n <defs>\n  <clipPath id=\"p64a6dc8828\">\n   <rect x=\"50.088867\" y=\"12.423926\" width=\"334.8\" height=\"217.44\"/>\n  </clipPath>\n </defs>\n</svg>\n",
            "text/plain": [
              "<Figure size 432x288 with 1 Axes>"
            ]
          },
          "metadata": {},
          "output_type": "display_data"
        }
      ],
      "source": [
        "corrs = {}\n",
        "sns.set_context(\"notebook\", font_scale=1.25)\n",
        "sns.set_style('white')\n",
        "for year in set(df_dinn.year):\n",
        "    corrs[year] = df_dinn.query('year==@year').corr()['dinn'].sort_values(ascending=False)\n",
        "corr_por_ano = pd.concat(corrs.values(),axis=1)\n",
        "corr_por_ano.columns = corrs.keys()\n",
        "corr_por_ano = corr_por_ano[corr_por_ano.columns.sort_values()]\n",
        "mais_variaveis = corr_por_ano.assign(var = corr_por_ano.var(axis=1)).nlargest(7,columns='var').drop(columns=['var'])\n",
        "for i in mais_variaveis.index:\n",
        "    sns.lineplot(mais_variaveis.columns,mais_variaveis.loc[i,:], linestyle='dashdot')\n",
        "    plt.ylim([-0.3, 1])\n",
        "    plt.ylabel(None)\n",
        "    #plt.show()"
      ]
    },
    {
      "cell_type": "code",
      "execution_count": null,
      "metadata": {},
      "outputs": [],
      "source": [
        "#tipos das colunas\n",
        "df_dinn.info()"
      ]
    },
    {
      "cell_type": "code",
      "execution_count": 105,
      "metadata": {},
      "outputs": [
        {
          "data": {
            "text/html": [
              "<div>\n",
              "<style scoped>\n",
              "    .dataframe tbody tr th:only-of-type {\n",
              "        vertical-align: middle;\n",
              "    }\n",
              "\n",
              "    .dataframe tbody tr th {\n",
              "        vertical-align: top;\n",
              "    }\n",
              "\n",
              "    .dataframe thead th {\n",
              "        text-align: right;\n",
              "    }\n",
              "</style>\n",
              "<table border=\"1\" class=\"dataframe\">\n",
              "  <thead>\n",
              "    <tr style=\"text-align: right;\">\n",
              "      <th></th>\n",
              "      <th>exp_f</th>\n",
              "      <th>year</th>\n",
              "      <th>sales_us_Y1</th>\n",
              "      <th>sales_us_Y2</th>\n",
              "      <th>sales_us_Y3</th>\n",
              "      <th>export_us_Y1</th>\n",
              "      <th>export_us_Y2</th>\n",
              "      <th>export_us_Y3</th>\n",
              "      <th>dexport</th>\n",
              "      <th>empl_Y1</th>\n",
              "      <th>empl_Y2</th>\n",
              "      <th>empl_Y3</th>\n",
              "      <th>phd_Y1</th>\n",
              "      <th>phd_Y2</th>\n",
              "      <th>phd_Y3</th>\n",
              "      <th>master_Y1</th>\n",
              "      <th>master_Y2</th>\n",
              "      <th>master_Y3</th>\n",
              "      <th>postgrad_Y1</th>\n",
              "      <th>postgrad_Y2</th>\n",
              "      <th>postgrad_Y3</th>\n",
              "      <th>undergrad_Y1</th>\n",
              "      <th>undergrad_Y2</th>\n",
              "      <th>undergrad_Y3</th>\n",
              "      <th>unidegree_Y1</th>\n",
              "      <th>unidegree_Y2</th>\n",
              "      <th>unidegree_Y3</th>\n",
              "      <th>degree_nesc</th>\n",
              "      <th>degree_et</th>\n",
              "      <th>degree_ingnesc</th>\n",
              "      <th>degree_ssc</th>\n",
              "      <th>degree_medsc</th>\n",
              "      <th>degree_agrsc</th>\n",
              "      <th>degree_hum</th>\n",
              "      <th>nontert_Y1</th>\n",
              "      <th>nontert_Y2</th>\n",
              "      <th>nontert_Y3</th>\n",
              "      <th>second_Y1</th>\n",
              "      <th>second_Y2</th>\n",
              "      <th>second_Y3</th>\n",
              "      <th>RD_empl</th>\n",
              "      <th>ict_mach_us_Y1</th>\n",
              "      <th>IPexp_us_Y1</th>\n",
              "      <th>ict_mach_us_Y2</th>\n",
              "      <th>IPexp_us_Y2</th>\n",
              "      <th>drdintexp</th>\n",
              "      <th>drdextexp</th>\n",
              "      <th>dictexp</th>\n",
              "      <th>dmachexp</th>\n",
              "      <th>dict_mach</th>\n",
              "      <th>dTTexp</th>\n",
              "      <th>dconexp</th>\n",
              "      <th>dIPexp</th>\n",
              "      <th>dtrainexp</th>\n",
              "      <th>dIDexp</th>\n",
              "      <th>dmktexp</th>\n",
              "      <th>dinn</th>\n",
              "    </tr>\n",
              "  </thead>\n",
              "  <tbody>\n",
              "    <tr>\n",
              "      <th>count</th>\n",
              "      <td>107280.000000</td>\n",
              "      <td>107280.000000</td>\n",
              "      <td>5.456600e+04</td>\n",
              "      <td>8.230200e+04</td>\n",
              "      <td>1.806300e+04</td>\n",
              "      <td>4.709200e+04</td>\n",
              "      <td>7.482700e+04</td>\n",
              "      <td>1.058900e+04</td>\n",
              "      <td>87292.000000</td>\n",
              "      <td>103513.000000</td>\n",
              "      <td>100939.000000</td>\n",
              "      <td>18165.000000</td>\n",
              "      <td>80227.000000</td>\n",
              "      <td>79924.000000</td>\n",
              "      <td>0.0</td>\n",
              "      <td>80227.000000</td>\n",
              "      <td>79924.000000</td>\n",
              "      <td>0.0</td>\n",
              "      <td>81676.000000</td>\n",
              "      <td>79924.000000</td>\n",
              "      <td>2571.000000</td>\n",
              "      <td>81676.000000</td>\n",
              "      <td>79924.000000</td>\n",
              "      <td>2571.000000</td>\n",
              "      <td>88444.000000</td>\n",
              "      <td>88513.000000</td>\n",
              "      <td>18136.000000</td>\n",
              "      <td>33241.000000</td>\n",
              "      <td>33241.000000</td>\n",
              "      <td>36932.000000</td>\n",
              "      <td>35362.000000</td>\n",
              "      <td>35362.000000</td>\n",
              "      <td>29297.000000</td>\n",
              "      <td>35362.000000</td>\n",
              "      <td>81676.000000</td>\n",
              "      <td>79924.000000</td>\n",
              "      <td>2571.000000</td>\n",
              "      <td>82411.000000</td>\n",
              "      <td>80959.000000</td>\n",
              "      <td>2576.000000</td>\n",
              "      <td>97529.000000</td>\n",
              "      <td>9.662300e+04</td>\n",
              "      <td>7.441100e+04</td>\n",
              "      <td>9.678000e+04</td>\n",
              "      <td>7.441100e+04</td>\n",
              "      <td>107280.000000</td>\n",
              "      <td>107280.000000</td>\n",
              "      <td>83074.000000</td>\n",
              "      <td>83074.000000</td>\n",
              "      <td>107280.000000</td>\n",
              "      <td>99266.000000</td>\n",
              "      <td>72484.000000</td>\n",
              "      <td>80498.000000</td>\n",
              "      <td>107280.000000</td>\n",
              "      <td>99184.000000</td>\n",
              "      <td>95939.000000</td>\n",
              "      <td>107280.000000</td>\n",
              "    </tr>\n",
              "    <tr>\n",
              "      <th>mean</th>\n",
              "      <td>8.241454</td>\n",
              "      <td>2013.314485</td>\n",
              "      <td>3.454349e+07</td>\n",
              "      <td>3.103062e+07</td>\n",
              "      <td>1.633257e+07</td>\n",
              "      <td>3.091071e+07</td>\n",
              "      <td>1.957253e+07</td>\n",
              "      <td>4.401059e+06</td>\n",
              "      <td>0.210455</td>\n",
              "      <td>154.205564</td>\n",
              "      <td>154.746666</td>\n",
              "      <td>126.006173</td>\n",
              "      <td>0.127301</td>\n",
              "      <td>0.132475</td>\n",
              "      <td>NaN</td>\n",
              "      <td>2.723824</td>\n",
              "      <td>2.911332</td>\n",
              "      <td>NaN</td>\n",
              "      <td>2.843735</td>\n",
              "      <td>3.043807</td>\n",
              "      <td>2.792477</td>\n",
              "      <td>15.234979</td>\n",
              "      <td>15.605266</td>\n",
              "      <td>15.312170</td>\n",
              "      <td>17.008951</td>\n",
              "      <td>17.459650</td>\n",
              "      <td>10.100189</td>\n",
              "      <td>13.437815</td>\n",
              "      <td>27.880954</td>\n",
              "      <td>21.197738</td>\n",
              "      <td>43.198578</td>\n",
              "      <td>4.480915</td>\n",
              "      <td>2.499499</td>\n",
              "      <td>5.158006</td>\n",
              "      <td>17.257112</td>\n",
              "      <td>17.545445</td>\n",
              "      <td>21.415513</td>\n",
              "      <td>65.294978</td>\n",
              "      <td>64.270837</td>\n",
              "      <td>60.556548</td>\n",
              "      <td>1.388900</td>\n",
              "      <td>1.437448e+05</td>\n",
              "      <td>1.181519e+04</td>\n",
              "      <td>1.915279e+05</td>\n",
              "      <td>1.619813e+04</td>\n",
              "      <td>0.108333</td>\n",
              "      <td>0.037640</td>\n",
              "      <td>0.175205</td>\n",
              "      <td>0.240256</td>\n",
              "      <td>0.270022</td>\n",
              "      <td>0.033959</td>\n",
              "      <td>0.117902</td>\n",
              "      <td>0.119146</td>\n",
              "      <td>0.098145</td>\n",
              "      <td>0.066745</td>\n",
              "      <td>0.072921</td>\n",
              "      <td>0.279521</td>\n",
              "    </tr>\n",
              "    <tr>\n",
              "      <th>std</th>\n",
              "      <td>41.956438</td>\n",
              "      <td>2.732973</td>\n",
              "      <td>3.267493e+08</td>\n",
              "      <td>3.458539e+08</td>\n",
              "      <td>9.896933e+07</td>\n",
              "      <td>5.248234e+09</td>\n",
              "      <td>3.866141e+09</td>\n",
              "      <td>2.986826e+07</td>\n",
              "      <td>0.407634</td>\n",
              "      <td>687.825088</td>\n",
              "      <td>627.889148</td>\n",
              "      <td>412.392410</td>\n",
              "      <td>1.784568</td>\n",
              "      <td>1.822541</td>\n",
              "      <td>NaN</td>\n",
              "      <td>7.633283</td>\n",
              "      <td>7.861588</td>\n",
              "      <td>NaN</td>\n",
              "      <td>7.987164</td>\n",
              "      <td>8.252651</td>\n",
              "      <td>6.717615</td>\n",
              "      <td>18.278179</td>\n",
              "      <td>18.447983</td>\n",
              "      <td>15.494246</td>\n",
              "      <td>20.949303</td>\n",
              "      <td>21.122926</td>\n",
              "      <td>15.262465</td>\n",
              "      <td>28.496815</td>\n",
              "      <td>33.585699</td>\n",
              "      <td>31.214087</td>\n",
              "      <td>38.749000</td>\n",
              "      <td>17.139509</td>\n",
              "      <td>11.362613</td>\n",
              "      <td>16.923051</td>\n",
              "      <td>20.161577</td>\n",
              "      <td>20.248191</td>\n",
              "      <td>20.452871</td>\n",
              "      <td>30.281701</td>\n",
              "      <td>30.497512</td>\n",
              "      <td>27.390629</td>\n",
              "      <td>16.190583</td>\n",
              "      <td>3.909799e+06</td>\n",
              "      <td>2.812124e+05</td>\n",
              "      <td>6.765358e+06</td>\n",
              "      <td>4.391070e+05</td>\n",
              "      <td>0.310802</td>\n",
              "      <td>0.190324</td>\n",
              "      <td>0.380145</td>\n",
              "      <td>0.427241</td>\n",
              "      <td>0.443973</td>\n",
              "      <td>0.181125</td>\n",
              "      <td>0.322494</td>\n",
              "      <td>0.323962</td>\n",
              "      <td>0.297512</td>\n",
              "      <td>0.249580</td>\n",
              "      <td>0.260009</td>\n",
              "      <td>0.448766</td>\n",
              "    </tr>\n",
              "    <tr>\n",
              "      <th>min</th>\n",
              "      <td>0.600000</td>\n",
              "      <td>2007.000000</td>\n",
              "      <td>0.000000e+00</td>\n",
              "      <td>0.000000e+00</td>\n",
              "      <td>0.000000e+00</td>\n",
              "      <td>0.000000e+00</td>\n",
              "      <td>0.000000e+00</td>\n",
              "      <td>0.000000e+00</td>\n",
              "      <td>0.000000</td>\n",
              "      <td>0.000000</td>\n",
              "      <td>0.000000</td>\n",
              "      <td>0.000000</td>\n",
              "      <td>0.000000</td>\n",
              "      <td>0.000000</td>\n",
              "      <td>NaN</td>\n",
              "      <td>0.000000</td>\n",
              "      <td>0.000000</td>\n",
              "      <td>NaN</td>\n",
              "      <td>0.000000</td>\n",
              "      <td>0.000000</td>\n",
              "      <td>0.000000</td>\n",
              "      <td>0.000000</td>\n",
              "      <td>0.000000</td>\n",
              "      <td>0.000000</td>\n",
              "      <td>0.000000</td>\n",
              "      <td>0.000000</td>\n",
              "      <td>0.000000</td>\n",
              "      <td>0.000000</td>\n",
              "      <td>0.000000</td>\n",
              "      <td>0.000000</td>\n",
              "      <td>0.000000</td>\n",
              "      <td>0.000000</td>\n",
              "      <td>0.000000</td>\n",
              "      <td>0.000000</td>\n",
              "      <td>0.000000</td>\n",
              "      <td>0.000000</td>\n",
              "      <td>0.000000</td>\n",
              "      <td>0.000000</td>\n",
              "      <td>0.000000</td>\n",
              "      <td>0.000000</td>\n",
              "      <td>0.000000</td>\n",
              "      <td>0.000000e+00</td>\n",
              "      <td>0.000000e+00</td>\n",
              "      <td>0.000000e+00</td>\n",
              "      <td>0.000000e+00</td>\n",
              "      <td>0.000000</td>\n",
              "      <td>0.000000</td>\n",
              "      <td>0.000000</td>\n",
              "      <td>0.000000</td>\n",
              "      <td>0.000000</td>\n",
              "      <td>0.000000</td>\n",
              "      <td>0.000000</td>\n",
              "      <td>0.000000</td>\n",
              "      <td>0.000000</td>\n",
              "      <td>0.000000</td>\n",
              "      <td>0.000000</td>\n",
              "      <td>0.000000</td>\n",
              "    </tr>\n",
              "    <tr>\n",
              "      <th>25%</th>\n",
              "      <td>1.000000</td>\n",
              "      <td>2011.000000</td>\n",
              "      <td>6.238229e+05</td>\n",
              "      <td>5.762189e+05</td>\n",
              "      <td>6.479681e+05</td>\n",
              "      <td>0.000000e+00</td>\n",
              "      <td>0.000000e+00</td>\n",
              "      <td>0.000000e+00</td>\n",
              "      <td>0.000000</td>\n",
              "      <td>14.000000</td>\n",
              "      <td>14.000000</td>\n",
              "      <td>15.000000</td>\n",
              "      <td>0.000000</td>\n",
              "      <td>0.000000</td>\n",
              "      <td>NaN</td>\n",
              "      <td>0.000000</td>\n",
              "      <td>0.000000</td>\n",
              "      <td>NaN</td>\n",
              "      <td>0.000000</td>\n",
              "      <td>0.000000</td>\n",
              "      <td>0.000000</td>\n",
              "      <td>3.465347</td>\n",
              "      <td>3.703704</td>\n",
              "      <td>5.000000</td>\n",
              "      <td>3.349282</td>\n",
              "      <td>3.571429</td>\n",
              "      <td>0.000000</td>\n",
              "      <td>0.000000</td>\n",
              "      <td>0.000000</td>\n",
              "      <td>0.000000</td>\n",
              "      <td>0.000000</td>\n",
              "      <td>0.000000</td>\n",
              "      <td>0.000000</td>\n",
              "      <td>0.000000</td>\n",
              "      <td>2.352941</td>\n",
              "      <td>2.564103</td>\n",
              "      <td>6.400000</td>\n",
              "      <td>48.571428</td>\n",
              "      <td>46.153847</td>\n",
              "      <td>44.444443</td>\n",
              "      <td>0.000000</td>\n",
              "      <td>0.000000e+00</td>\n",
              "      <td>0.000000e+00</td>\n",
              "      <td>0.000000e+00</td>\n",
              "      <td>0.000000e+00</td>\n",
              "      <td>0.000000</td>\n",
              "      <td>0.000000</td>\n",
              "      <td>0.000000</td>\n",
              "      <td>0.000000</td>\n",
              "      <td>0.000000</td>\n",
              "      <td>0.000000</td>\n",
              "      <td>0.000000</td>\n",
              "      <td>0.000000</td>\n",
              "      <td>0.000000</td>\n",
              "      <td>0.000000</td>\n",
              "      <td>0.000000</td>\n",
              "      <td>0.000000</td>\n",
              "    </tr>\n",
              "    <tr>\n",
              "      <th>50%</th>\n",
              "      <td>1.000000</td>\n",
              "      <td>2013.000000</td>\n",
              "      <td>2.396337e+06</td>\n",
              "      <td>2.204100e+06</td>\n",
              "      <td>2.094826e+06</td>\n",
              "      <td>0.000000e+00</td>\n",
              "      <td>0.000000e+00</td>\n",
              "      <td>0.000000e+00</td>\n",
              "      <td>0.000000</td>\n",
              "      <td>36.000000</td>\n",
              "      <td>36.000000</td>\n",
              "      <td>35.000000</td>\n",
              "      <td>0.000000</td>\n",
              "      <td>0.000000</td>\n",
              "      <td>NaN</td>\n",
              "      <td>0.000000</td>\n",
              "      <td>0.000000</td>\n",
              "      <td>NaN</td>\n",
              "      <td>0.000000</td>\n",
              "      <td>0.000000</td>\n",
              "      <td>0.454545</td>\n",
              "      <td>9.494452</td>\n",
              "      <td>10.000000</td>\n",
              "      <td>11.111111</td>\n",
              "      <td>10.000000</td>\n",
              "      <td>10.344828</td>\n",
              "      <td>4.687500</td>\n",
              "      <td>0.000000</td>\n",
              "      <td>13.425926</td>\n",
              "      <td>3.061224</td>\n",
              "      <td>40.000000</td>\n",
              "      <td>0.000000</td>\n",
              "      <td>0.000000</td>\n",
              "      <td>0.000000</td>\n",
              "      <td>10.714286</td>\n",
              "      <td>11.111111</td>\n",
              "      <td>15.748032</td>\n",
              "      <td>75.000000</td>\n",
              "      <td>74.074074</td>\n",
              "      <td>66.666672</td>\n",
              "      <td>0.000000</td>\n",
              "      <td>0.000000e+00</td>\n",
              "      <td>0.000000e+00</td>\n",
              "      <td>0.000000e+00</td>\n",
              "      <td>0.000000e+00</td>\n",
              "      <td>0.000000</td>\n",
              "      <td>0.000000</td>\n",
              "      <td>0.000000</td>\n",
              "      <td>0.000000</td>\n",
              "      <td>0.000000</td>\n",
              "      <td>0.000000</td>\n",
              "      <td>0.000000</td>\n",
              "      <td>0.000000</td>\n",
              "      <td>0.000000</td>\n",
              "      <td>0.000000</td>\n",
              "      <td>0.000000</td>\n",
              "      <td>0.000000</td>\n",
              "    </tr>\n",
              "    <tr>\n",
              "      <th>75%</th>\n",
              "      <td>2.000000</td>\n",
              "      <td>2016.000000</td>\n",
              "      <td>9.414684e+06</td>\n",
              "      <td>9.037783e+06</td>\n",
              "      <td>7.671847e+06</td>\n",
              "      <td>0.000000e+00</td>\n",
              "      <td>0.000000e+00</td>\n",
              "      <td>1.056694e+05</td>\n",
              "      <td>0.000000</td>\n",
              "      <td>102.000000</td>\n",
              "      <td>103.000000</td>\n",
              "      <td>98.000000</td>\n",
              "      <td>0.000000</td>\n",
              "      <td>0.000000</td>\n",
              "      <td>NaN</td>\n",
              "      <td>2.150538</td>\n",
              "      <td>2.477876</td>\n",
              "      <td>NaN</td>\n",
              "      <td>2.258065</td>\n",
              "      <td>2.564103</td>\n",
              "      <td>3.094259</td>\n",
              "      <td>20.000000</td>\n",
              "      <td>20.000000</td>\n",
              "      <td>20.000000</td>\n",
              "      <td>21.428572</td>\n",
              "      <td>22.222221</td>\n",
              "      <td>13.207547</td>\n",
              "      <td>7.142857</td>\n",
              "      <td>50.000000</td>\n",
              "      <td>33.333332</td>\n",
              "      <td>80.000000</td>\n",
              "      <td>0.000000</td>\n",
              "      <td>0.000000</td>\n",
              "      <td>0.000000</td>\n",
              "      <td>24.691359</td>\n",
              "      <td>25.000000</td>\n",
              "      <td>30.000000</td>\n",
              "      <td>88.888885</td>\n",
              "      <td>88.235291</td>\n",
              "      <td>82.280817</td>\n",
              "      <td>0.000000</td>\n",
              "      <td>0.000000e+00</td>\n",
              "      <td>0.000000e+00</td>\n",
              "      <td>0.000000e+00</td>\n",
              "      <td>0.000000e+00</td>\n",
              "      <td>0.000000</td>\n",
              "      <td>0.000000</td>\n",
              "      <td>0.000000</td>\n",
              "      <td>0.000000</td>\n",
              "      <td>1.000000</td>\n",
              "      <td>0.000000</td>\n",
              "      <td>0.000000</td>\n",
              "      <td>0.000000</td>\n",
              "      <td>0.000000</td>\n",
              "      <td>0.000000</td>\n",
              "      <td>0.000000</td>\n",
              "      <td>1.000000</td>\n",
              "    </tr>\n",
              "    <tr>\n",
              "      <th>max</th>\n",
              "      <td>1317.000000</td>\n",
              "      <td>2017.000000</td>\n",
              "      <td>2.924755e+10</td>\n",
              "      <td>4.156648e+10</td>\n",
              "      <td>4.929378e+09</td>\n",
              "      <td>1.138350e+12</td>\n",
              "      <td>1.056620e+12</td>\n",
              "      <td>9.371885e+08</td>\n",
              "      <td>1.000000</td>\n",
              "      <td>90573.000000</td>\n",
              "      <td>60588.000000</td>\n",
              "      <td>11316.000000</td>\n",
              "      <td>100.000000</td>\n",
              "      <td>100.000000</td>\n",
              "      <td>NaN</td>\n",
              "      <td>100.000000</td>\n",
              "      <td>100.000000</td>\n",
              "      <td>NaN</td>\n",
              "      <td>100.000000</td>\n",
              "      <td>100.000000</td>\n",
              "      <td>100.000000</td>\n",
              "      <td>100.000000</td>\n",
              "      <td>100.000000</td>\n",
              "      <td>100.000000</td>\n",
              "      <td>100.000000</td>\n",
              "      <td>100.000010</td>\n",
              "      <td>100.000000</td>\n",
              "      <td>100.000000</td>\n",
              "      <td>100.000000</td>\n",
              "      <td>100.000000</td>\n",
              "      <td>100.000000</td>\n",
              "      <td>100.000000</td>\n",
              "      <td>100.000000</td>\n",
              "      <td>100.000000</td>\n",
              "      <td>100.000000</td>\n",
              "      <td>100.000000</td>\n",
              "      <td>100.000000</td>\n",
              "      <td>100.000000</td>\n",
              "      <td>100.000000</td>\n",
              "      <td>100.000000</td>\n",
              "      <td>1014.000000</td>\n",
              "      <td>8.911451e+08</td>\n",
              "      <td>4.110932e+07</td>\n",
              "      <td>1.567861e+09</td>\n",
              "      <td>7.251402e+07</td>\n",
              "      <td>1.000000</td>\n",
              "      <td>1.000000</td>\n",
              "      <td>1.000000</td>\n",
              "      <td>1.000000</td>\n",
              "      <td>1.000000</td>\n",
              "      <td>1.000000</td>\n",
              "      <td>1.000000</td>\n",
              "      <td>1.000000</td>\n",
              "      <td>1.000000</td>\n",
              "      <td>1.000000</td>\n",
              "      <td>1.000000</td>\n",
              "      <td>1.000000</td>\n",
              "    </tr>\n",
              "  </tbody>\n",
              "</table>\n",
              "</div>"
            ],
            "text/plain": [
              "               exp_f           year   sales_us_Y1   sales_us_Y2   sales_us_Y3  \\\n",
              "count  107280.000000  107280.000000  5.456600e+04  8.230200e+04  1.806300e+04   \n",
              "mean        8.241454    2013.314485  3.454349e+07  3.103062e+07  1.633257e+07   \n",
              "std        41.956438       2.732973  3.267493e+08  3.458539e+08  9.896933e+07   \n",
              "min         0.600000    2007.000000  0.000000e+00  0.000000e+00  0.000000e+00   \n",
              "25%         1.000000    2011.000000  6.238229e+05  5.762189e+05  6.479681e+05   \n",
              "50%         1.000000    2013.000000  2.396337e+06  2.204100e+06  2.094826e+06   \n",
              "75%         2.000000    2016.000000  9.414684e+06  9.037783e+06  7.671847e+06   \n",
              "max      1317.000000    2017.000000  2.924755e+10  4.156648e+10  4.929378e+09   \n",
              "\n",
              "       export_us_Y1  export_us_Y2  export_us_Y3       dexport        empl_Y1  \\\n",
              "count  4.709200e+04  7.482700e+04  1.058900e+04  87292.000000  103513.000000   \n",
              "mean   3.091071e+07  1.957253e+07  4.401059e+06      0.210455     154.205564   \n",
              "std    5.248234e+09  3.866141e+09  2.986826e+07      0.407634     687.825088   \n",
              "min    0.000000e+00  0.000000e+00  0.000000e+00      0.000000       0.000000   \n",
              "25%    0.000000e+00  0.000000e+00  0.000000e+00      0.000000      14.000000   \n",
              "50%    0.000000e+00  0.000000e+00  0.000000e+00      0.000000      36.000000   \n",
              "75%    0.000000e+00  0.000000e+00  1.056694e+05      0.000000     102.000000   \n",
              "max    1.138350e+12  1.056620e+12  9.371885e+08      1.000000   90573.000000   \n",
              "\n",
              "             empl_Y2       empl_Y3        phd_Y1        phd_Y2  phd_Y3  \\\n",
              "count  100939.000000  18165.000000  80227.000000  79924.000000     0.0   \n",
              "mean      154.746666    126.006173      0.127301      0.132475     NaN   \n",
              "std       627.889148    412.392410      1.784568      1.822541     NaN   \n",
              "min         0.000000      0.000000      0.000000      0.000000     NaN   \n",
              "25%        14.000000     15.000000      0.000000      0.000000     NaN   \n",
              "50%        36.000000     35.000000      0.000000      0.000000     NaN   \n",
              "75%       103.000000     98.000000      0.000000      0.000000     NaN   \n",
              "max     60588.000000  11316.000000    100.000000    100.000000     NaN   \n",
              "\n",
              "          master_Y1     master_Y2  master_Y3   postgrad_Y1   postgrad_Y2  \\\n",
              "count  80227.000000  79924.000000        0.0  81676.000000  79924.000000   \n",
              "mean       2.723824      2.911332        NaN      2.843735      3.043807   \n",
              "std        7.633283      7.861588        NaN      7.987164      8.252651   \n",
              "min        0.000000      0.000000        NaN      0.000000      0.000000   \n",
              "25%        0.000000      0.000000        NaN      0.000000      0.000000   \n",
              "50%        0.000000      0.000000        NaN      0.000000      0.000000   \n",
              "75%        2.150538      2.477876        NaN      2.258065      2.564103   \n",
              "max      100.000000    100.000000        NaN    100.000000    100.000000   \n",
              "\n",
              "       postgrad_Y3  undergrad_Y1  undergrad_Y2  undergrad_Y3  unidegree_Y1  \\\n",
              "count  2571.000000  81676.000000  79924.000000   2571.000000  88444.000000   \n",
              "mean      2.792477     15.234979     15.605266     15.312170     17.008951   \n",
              "std       6.717615     18.278179     18.447983     15.494246     20.949303   \n",
              "min       0.000000      0.000000      0.000000      0.000000      0.000000   \n",
              "25%       0.000000      3.465347      3.703704      5.000000      3.349282   \n",
              "50%       0.454545      9.494452     10.000000     11.111111     10.000000   \n",
              "75%       3.094259     20.000000     20.000000     20.000000     21.428572   \n",
              "max     100.000000    100.000000    100.000000    100.000000    100.000000   \n",
              "\n",
              "       unidegree_Y2  unidegree_Y3   degree_nesc     degree_et  degree_ingnesc  \\\n",
              "count  88513.000000  18136.000000  33241.000000  33241.000000    36932.000000   \n",
              "mean      17.459650     10.100189     13.437815     27.880954       21.197738   \n",
              "std       21.122926     15.262465     28.496815     33.585699       31.214087   \n",
              "min        0.000000      0.000000      0.000000      0.000000        0.000000   \n",
              "25%        3.571429      0.000000      0.000000      0.000000        0.000000   \n",
              "50%       10.344828      4.687500      0.000000     13.425926        3.061224   \n",
              "75%       22.222221     13.207547      7.142857     50.000000       33.333332   \n",
              "max      100.000010    100.000000    100.000000    100.000000      100.000000   \n",
              "\n",
              "         degree_ssc  degree_medsc  degree_agrsc    degree_hum    nontert_Y1  \\\n",
              "count  35362.000000  35362.000000  29297.000000  35362.000000  81676.000000   \n",
              "mean      43.198578      4.480915      2.499499      5.158006     17.257112   \n",
              "std       38.749000     17.139509     11.362613     16.923051     20.161577   \n",
              "min        0.000000      0.000000      0.000000      0.000000      0.000000   \n",
              "25%        0.000000      0.000000      0.000000      0.000000      2.352941   \n",
              "50%       40.000000      0.000000      0.000000      0.000000     10.714286   \n",
              "75%       80.000000      0.000000      0.000000      0.000000     24.691359   \n",
              "max      100.000000    100.000000    100.000000    100.000000    100.000000   \n",
              "\n",
              "         nontert_Y2   nontert_Y3     second_Y1     second_Y2    second_Y3  \\\n",
              "count  79924.000000  2571.000000  82411.000000  80959.000000  2576.000000   \n",
              "mean      17.545445    21.415513     65.294978     64.270837    60.556548   \n",
              "std       20.248191    20.452871     30.281701     30.497512    27.390629   \n",
              "min        0.000000     0.000000      0.000000      0.000000     0.000000   \n",
              "25%        2.564103     6.400000     48.571428     46.153847    44.444443   \n",
              "50%       11.111111    15.748032     75.000000     74.074074    66.666672   \n",
              "75%       25.000000    30.000000     88.888885     88.235291    82.280817   \n",
              "max      100.000000   100.000000    100.000000    100.000000   100.000000   \n",
              "\n",
              "            RD_empl  ict_mach_us_Y1   IPexp_us_Y1  ict_mach_us_Y2  \\\n",
              "count  97529.000000    9.662300e+04  7.441100e+04    9.678000e+04   \n",
              "mean       1.388900    1.437448e+05  1.181519e+04    1.915279e+05   \n",
              "std       16.190583    3.909799e+06  2.812124e+05    6.765358e+06   \n",
              "min        0.000000    0.000000e+00  0.000000e+00    0.000000e+00   \n",
              "25%        0.000000    0.000000e+00  0.000000e+00    0.000000e+00   \n",
              "50%        0.000000    0.000000e+00  0.000000e+00    0.000000e+00   \n",
              "75%        0.000000    0.000000e+00  0.000000e+00    0.000000e+00   \n",
              "max     1014.000000    8.911451e+08  4.110932e+07    1.567861e+09   \n",
              "\n",
              "        IPexp_us_Y2      drdintexp      drdextexp       dictexp      dmachexp  \\\n",
              "count  7.441100e+04  107280.000000  107280.000000  83074.000000  83074.000000   \n",
              "mean   1.619813e+04       0.108333       0.037640      0.175205      0.240256   \n",
              "std    4.391070e+05       0.310802       0.190324      0.380145      0.427241   \n",
              "min    0.000000e+00       0.000000       0.000000      0.000000      0.000000   \n",
              "25%    0.000000e+00       0.000000       0.000000      0.000000      0.000000   \n",
              "50%    0.000000e+00       0.000000       0.000000      0.000000      0.000000   \n",
              "75%    0.000000e+00       0.000000       0.000000      0.000000      0.000000   \n",
              "max    7.251402e+07       1.000000       1.000000      1.000000      1.000000   \n",
              "\n",
              "           dict_mach        dTTexp       dconexp        dIPexp      dtrainexp  \\\n",
              "count  107280.000000  99266.000000  72484.000000  80498.000000  107280.000000   \n",
              "mean        0.270022      0.033959      0.117902      0.119146       0.098145   \n",
              "std         0.443973      0.181125      0.322494      0.323962       0.297512   \n",
              "min         0.000000      0.000000      0.000000      0.000000       0.000000   \n",
              "25%         0.000000      0.000000      0.000000      0.000000       0.000000   \n",
              "50%         0.000000      0.000000      0.000000      0.000000       0.000000   \n",
              "75%         1.000000      0.000000      0.000000      0.000000       0.000000   \n",
              "max         1.000000      1.000000      1.000000      1.000000       1.000000   \n",
              "\n",
              "             dIDexp       dmktexp           dinn  \n",
              "count  99184.000000  95939.000000  107280.000000  \n",
              "mean       0.066745      0.072921       0.279521  \n",
              "std        0.249580      0.260009       0.448766  \n",
              "min        0.000000      0.000000       0.000000  \n",
              "25%        0.000000      0.000000       0.000000  \n",
              "50%        0.000000      0.000000       0.000000  \n",
              "75%        0.000000      0.000000       1.000000  \n",
              "max        1.000000      1.000000       1.000000  "
            ]
          },
          "execution_count": 105,
          "metadata": {},
          "output_type": "execute_result"
        }
      ],
      "source": [
        "#estatisticas descritivas do dataset\n",
        "df_dinn.describe()"
      ]
    },
    {
      "cell_type": "code",
      "execution_count": 106,
      "metadata": {},
      "outputs": [
        {
          "data": {
            "text/plain": [
              "Colombia     0.604484\n",
              "Chile        0.225634\n",
              "Uruguay      0.074702\n",
              "Argentina    0.071169\n",
              "Peru         0.024012\n",
              "Name: country, dtype: float64"
            ]
          },
          "execution_count": 106,
          "metadata": {},
          "output_type": "execute_result"
        }
      ],
      "source": [
        "#representatividade de cada país\n",
        "df_dinn['country'].value_counts(normalize=True)"
      ]
    },
    {
      "cell_type": "code",
      "execution_count": 107,
      "metadata": {},
      "outputs": [
        {
          "data": {
            "text/plain": [
              "Manufacturing                                  0.621763\n",
              "Wholesale and retail trade                     0.101853\n",
              "Transport, storage, and communications         0.066618\n",
              "Real state, renting and business activities    0.052409\n",
              "Hotels and restaurants                         0.036006\n",
              "Health and social work                         0.033590\n",
              "Construction                                   0.018467\n",
              "social and personal services                   0.017513\n",
              "Agriculture, hunting and forestry              0.013726\n",
              "Eletricity, gas and water supply               0.012994\n",
              "Financial Intermediation                       0.009795\n",
              "Education                                      0.007039\n",
              "Fishing                                        0.005407\n",
              "Mining and quarrying                           0.002821\n",
              "Name: isic3_1d, dtype: float64"
            ]
          },
          "execution_count": 107,
          "metadata": {},
          "output_type": "execute_result"
        }
      ],
      "source": [
        "#representatividade das áreas de atuação\n",
        "df_dinn['isic3_1d'].value_counts(normalize=True)"
      ]
    },
    {
      "cell_type": "code",
      "execution_count": 108,
      "metadata": {},
      "outputs": [
        {
          "data": {
            "text/plain": [
              "0    0.720479\n",
              "1    0.279521\n",
              "Name: dinn, dtype: float64"
            ]
          },
          "execution_count": 108,
          "metadata": {},
          "output_type": "execute_result"
        }
      ],
      "source": [
        "#representatividade da váriavel dependente indicadora de inovação\n",
        "df_dinn['dinn'].value_counts(normalize=True)"
      ]
    },
    {
      "cell_type": "code",
      "execution_count": 109,
      "metadata": {},
      "outputs": [
        {
          "data": {
            "text/plain": [
              "0.0    0.908249\n",
              "1.0    0.091751\n",
              "Name: dinn_scp, dtype: float64"
            ]
          },
          "execution_count": 109,
          "metadata": {},
          "output_type": "execute_result"
        }
      ],
      "source": [
        "#representatividade da váriavel dependente indicadora de inovação que tenha causado impacto fora da firma\n",
        "df_dinnscp['dinn_scp'].value_counts(normalize=True)"
      ]
    },
    {
      "cell_type": "markdown",
      "metadata": {
        "id": "5LeBetrq6Ixx"
      },
      "source": [
        "### Tratamentos"
      ]
    },
    {
      "cell_type": "markdown",
      "metadata": {
        "id": "FL_NYhIFJdU6"
      },
      "source": [
        "Buscamos diminuir a cardinalidade da variável isic3_1d, indicadora do setor de atuação das firmas (semelhante à Classificação Econômica de Atividades Econômicas - CNAE). Das 12 áreas de atuação presentes no dataset, as firmas de varejo e atacado (wholesale and retail trade) e as indústrias de transformação (manufacturing) respondem, respectivamente, por 10% e 62% das instâncias restantes e nenhum outro setor ultrapassou 7% de representatividade. Foram agrupados, então, os dez setores com baixa representatividade, totalizando três categorias mais robustas, o que diminui o risco de overfitting do modelo."
      ]
    },
    {
      "cell_type": "code",
      "execution_count": 110,
      "metadata": {
        "id": "tacS7_kSLRQk"
      },
      "outputs": [
        {
          "data": {
            "text/plain": [
              "Manufacturing                                  0.621763\n",
              "Wholesale and retail trade                     0.101853\n",
              "Transport, storage, and communications         0.066618\n",
              "Real state, renting and business activities    0.052409\n",
              "Hotels and restaurants                         0.036006\n",
              "Health and social work                         0.033590\n",
              "Construction                                   0.018467\n",
              "social and personal services                   0.017513\n",
              "Agriculture, hunting and forestry              0.013726\n",
              "Eletricity, gas and water supply               0.012994\n",
              "Financial Intermediation                       0.009795\n",
              "Education                                      0.007039\n",
              "Fishing                                        0.005407\n",
              "Mining and quarrying                           0.002821\n",
              "Name: isic3_1d, dtype: float64"
            ]
          },
          "execution_count": 110,
          "metadata": {},
          "output_type": "execute_result"
        }
      ],
      "source": [
        "df_dinn['isic3_1d'].value_counts(normalize=True)"
      ]
    },
    {
      "cell_type": "code",
      "execution_count": 111,
      "metadata": {
        "id": "pOgpxV7eHSfD"
      },
      "outputs": [],
      "source": [
        "def group_sectors(frame,percent=0.10):\n",
        "    df = frame.copy()\n",
        "    \n",
        "    categs_setor_low = df.isic3_1d.value_counts(normalize=True)[df.isic3_1d.value_counts(normalize=True)<percent].index\n",
        "    df['isic3_1d']=df['isic3_1d'].replace(categs_setor_low,'other')\n",
        "\n",
        "    return df"
      ]
    },
    {
      "cell_type": "code",
      "execution_count": 112,
      "metadata": {
        "id": "Ir8amo0C6Iya"
      },
      "outputs": [],
      "source": [
        "df_dinn = group_sectors(df_dinn)\n",
        "df_dinnscp = group_sectors(df_dinnscp)\n"
      ]
    },
    {
      "cell_type": "code",
      "execution_count": 113,
      "metadata": {
        "id": "91q5tCMT6Iyc"
      },
      "outputs": [
        {
          "data": {
            "text/plain": [
              "Manufacturing                 0.621763\n",
              "other                         0.276384\n",
              "Wholesale and retail trade    0.101853\n",
              "Name: isic3_1d, dtype: float64"
            ]
          },
          "execution_count": 113,
          "metadata": {},
          "output_type": "execute_result"
        }
      ],
      "source": [
        "df_dinn['isic3_1d'].value_counts(normalize=True)"
      ]
    },
    {
      "cell_type": "markdown",
      "metadata": {
        "id": "PmocEJp4JUNi"
      },
      "source": [
        "Grande parte do dataset original é composta por valores nulos, tendo algumas features mais de 90% das instâncias vazias. Por isso, foram criadas duas versões do dataset principal *df_dinn*: uma com colunas com no máximo 20% de valores nulos (D1) e outra com um máximo de 50% (D2), reduzindo a quantidade de variáveis para 18 e 37, respectivamente. \n",
        "\n",
        "Para o dataset *df_dinnscp* foram mantidas apenas as colunas com no máximo 50% de valores nulos. "
      ]
    },
    {
      "cell_type": "code",
      "execution_count": 9,
      "metadata": {
        "id": "f5aHPOQv6Ix0"
      },
      "outputs": [],
      "source": [
        "def null_percentage(frame,percent=0.5):\n",
        "    df = frame.copy()    \n",
        "    total_null = df.isnull().sum().sort_values(ascending=False)\n",
        "    percent_null = (total_null/df.shape[0]).sort_values(ascending=False)\n",
        "\n",
        "    df_ = df.drop(percent_null[(percent_null>percent)].index,axis=1)\n",
        "    return df_\n",
        "\n"
      ]
    },
    {
      "cell_type": "code",
      "execution_count": 116,
      "metadata": {
        "id": "tAtiGLqbCX-0"
      },
      "outputs": [],
      "source": [
        "df_20 = null_percentage(df_dinn,0.2)\n",
        "df_50 = null_percentage(df_dinn,0.5)\n",
        "df_scope = null_percentage(df_dinnscp,0.5)\n"
      ]
    },
    {
      "cell_type": "markdown",
      "metadata": {
        "id": "3IqQPjSgLOZ1"
      },
      "source": [
        "Para a análise do impacto das variáveis de gastos com maquinário, foram criadas versões do dataset D1 e D2 sem as mesmas, a partir da qual o modelo foi retreinado. Em regra, houve semelhante queda em todos os setores. \n"
      ]
    },
    {
      "cell_type": "code",
      "execution_count": 118,
      "metadata": {
        "id": "xGoQE2FkHTz9"
      },
      "outputs": [],
      "source": [
        "def remove_mach_vars(frame):\n",
        "    df = frame.copy()\n",
        "    df.drop(['dmachexp', 'ict_mach_us_Y1','dict_mach','ict_mach_us_Y2','ict_mach_us_Y3','dictexp','dict_mach'],axis=1,inplace=True,errors='ignore')\n",
        "    return df"
      ]
    },
    {
      "cell_type": "code",
      "execution_count": 119,
      "metadata": {
        "id": "MKSIrRDq6Iyd"
      },
      "outputs": [],
      "source": [
        "df_20_nomach = remove_mach_vars(df_20)\n",
        "df_50_nomach = remove_mach_vars(df_50)\n",
        "\n",
        "datasets = [df_20, df_50, df_20_nomach, df_50_nomach, df_scope]"
      ]
    },
    {
      "cell_type": "code",
      "execution_count": 120,
      "metadata": {
        "id": "hz883qZz6Iyi"
      },
      "outputs": [],
      "source": [
        "#retirando a variavel year de todos os datasets, assim como sales e export pois só restaram as colunas referentes ao Y2\n",
        "for df in datasets:\n",
        "    df.drop(['year','sales_us_Y1',\n",
        "            'sales_us_Y2',\n",
        "            'sales_us_Y3',\n",
        "            'export_us_Y1',\n",
        "            'export_us_Y2',\n",
        "            'export_us_Y3',],axis=1,inplace=True,errors='ignore')"
      ]
    },
    {
      "cell_type": "markdown",
      "metadata": {
        "id": "GvoUZ6S76Iyj"
      },
      "source": [
        "### Modelagem"
      ]
    },
    {
      "cell_type": "markdown",
      "metadata": {
        "id": "pEC7AZhHC_4S"
      },
      "source": [
        "Cada variável na célula seguinte corresponde aos experimentos de mesmo nome definidos no artigo, exceto pela variável *E_nomach* que corresponde á análise feita na seção 3.4 sobre o efeito das váriaveis de maquinário na performance do modelo."
      ]
    },
    {
      "cell_type": "code",
      "execution_count": null,
      "metadata": {
        "id": "g3MMsD_86Iyj"
      },
      "outputs": [],
      "source": [
        "E1 = {'data':df_20, 'target':'dinn', 'train_size':0.8, 'categorical_imputation':'mode', 'fix_imbalance':True, }\n",
        "E2 = {'data':df_50, 'target':'dinn', 'train_size':0.8, 'categorical_imputation':'mode', 'fix_imbalance':True, }\n",
        "E3 = {'data':df_20, 'target':'dinn', 'train_size':0.8, 'categorical_imputation':'mode', 'fix_imbalance':False, }\n",
        "E4 = {'data':df_50, 'target':'dinn', 'train_size':0.8, 'categorical_imputation':'mode', 'fix_imbalance':False, }\n",
        "E_nomach = {'data':df_50_nomach, 'target':'dinn', 'train_size':0.8, 'categorical_imputation':'mode', 'fix_imbalance':False, }\n",
        "E5 = {'data':df_scope, 'target':'dinn_scp', 'train_size':0.9, 'categorical_imputation':'mode', 'fix_imbalance':False, }\n",
        "\n",
        "\n",
        "from pycaret import classification as clf\n",
        "\n",
        "exp_name = clf.setup(**E4)\n"
      ]
    },
    {
      "cell_type": "markdown",
      "metadata": {},
      "source": [
        "Definiu-se a precisão como métrica de comparação de desempenho entre os modelos, com vistas a reduzir a quantidade de falsos positivos, ou seja, investimentos públicos em empresas que não obterão êxito em inovar. Para fins comparativos, foram apresentadas outras métricas usualmente utilizadas - acurácia, AUC, f-score (F1) e recall."
      ]
    },
    {
      "cell_type": "code",
      "execution_count": 135,
      "metadata": {
        "id": "bYOUj9EL6Iyl"
      },
      "outputs": [
        {
          "data": {
            "text/html": [
              "<style type=\"text/css\">\n",
              "#T_c6e0e th {\n",
              "  text-align: left;\n",
              "}\n",
              "#T_c6e0e_row0_col0, #T_c6e0e_row0_col4, #T_c6e0e_row1_col0, #T_c6e0e_row1_col1, #T_c6e0e_row1_col2, #T_c6e0e_row1_col3, #T_c6e0e_row1_col4, #T_c6e0e_row1_col5, #T_c6e0e_row1_col6, #T_c6e0e_row1_col7, #T_c6e0e_row2_col0, #T_c6e0e_row2_col1, #T_c6e0e_row2_col2, #T_c6e0e_row2_col3, #T_c6e0e_row2_col5, #T_c6e0e_row2_col6, #T_c6e0e_row2_col7, #T_c6e0e_row3_col0, #T_c6e0e_row3_col1, #T_c6e0e_row3_col2, #T_c6e0e_row3_col3, #T_c6e0e_row3_col4, #T_c6e0e_row3_col5, #T_c6e0e_row3_col6, #T_c6e0e_row3_col7, #T_c6e0e_row4_col0, #T_c6e0e_row4_col1, #T_c6e0e_row4_col2, #T_c6e0e_row4_col3, #T_c6e0e_row4_col4, #T_c6e0e_row4_col5, #T_c6e0e_row4_col6, #T_c6e0e_row4_col7 {\n",
              "  text-align: left;\n",
              "}\n",
              "#T_c6e0e_row0_col1, #T_c6e0e_row0_col2, #T_c6e0e_row0_col3, #T_c6e0e_row0_col5, #T_c6e0e_row0_col6, #T_c6e0e_row0_col7, #T_c6e0e_row2_col4 {\n",
              "  text-align: left;\n",
              "  background-color: yellow;\n",
              "}\n",
              "#T_c6e0e_row0_col8, #T_c6e0e_row1_col8, #T_c6e0e_row3_col8, #T_c6e0e_row4_col8 {\n",
              "  text-align: left;\n",
              "  background-color: lightgrey;\n",
              "}\n",
              "#T_c6e0e_row2_col8 {\n",
              "  text-align: left;\n",
              "  background-color: yellow;\n",
              "  background-color: lightgrey;\n",
              "}\n",
              "</style>\n",
              "<table id=\"T_c6e0e\">\n",
              "  <thead>\n",
              "    <tr>\n",
              "      <th class=\"blank level0\" >&nbsp;</th>\n",
              "      <th id=\"T_c6e0e_level0_col0\" class=\"col_heading level0 col0\" >Model</th>\n",
              "      <th id=\"T_c6e0e_level0_col1\" class=\"col_heading level0 col1\" >Accuracy</th>\n",
              "      <th id=\"T_c6e0e_level0_col2\" class=\"col_heading level0 col2\" >AUC</th>\n",
              "      <th id=\"T_c6e0e_level0_col3\" class=\"col_heading level0 col3\" >Recall</th>\n",
              "      <th id=\"T_c6e0e_level0_col4\" class=\"col_heading level0 col4\" >Prec.</th>\n",
              "      <th id=\"T_c6e0e_level0_col5\" class=\"col_heading level0 col5\" >F1</th>\n",
              "      <th id=\"T_c6e0e_level0_col6\" class=\"col_heading level0 col6\" >Kappa</th>\n",
              "      <th id=\"T_c6e0e_level0_col7\" class=\"col_heading level0 col7\" >MCC</th>\n",
              "      <th id=\"T_c6e0e_level0_col8\" class=\"col_heading level0 col8\" >TT (Sec)</th>\n",
              "    </tr>\n",
              "  </thead>\n",
              "  <tbody>\n",
              "    <tr>\n",
              "      <th id=\"T_c6e0e_level0_row0\" class=\"row_heading level0 row0\" >lightgbm</th>\n",
              "      <td id=\"T_c6e0e_row0_col0\" class=\"data row0 col0\" >Light Gradient Boosting Machine</td>\n",
              "      <td id=\"T_c6e0e_row0_col1\" class=\"data row0 col1\" >0.9243</td>\n",
              "      <td id=\"T_c6e0e_row0_col2\" class=\"data row0 col2\" >0.9632</td>\n",
              "      <td id=\"T_c6e0e_row0_col3\" class=\"data row0 col3\" >0.9031</td>\n",
              "      <td id=\"T_c6e0e_row0_col4\" class=\"data row0 col4\" >0.8383</td>\n",
              "      <td id=\"T_c6e0e_row0_col5\" class=\"data row0 col5\" >0.8695</td>\n",
              "      <td id=\"T_c6e0e_row0_col6\" class=\"data row0 col6\" >0.8163</td>\n",
              "      <td id=\"T_c6e0e_row0_col7\" class=\"data row0 col7\" >0.8174</td>\n",
              "      <td id=\"T_c6e0e_row0_col8\" class=\"data row0 col8\" >3.0660</td>\n",
              "    </tr>\n",
              "    <tr>\n",
              "      <th id=\"T_c6e0e_level0_row1\" class=\"row_heading level0 row1\" >rf</th>\n",
              "      <td id=\"T_c6e0e_row1_col0\" class=\"data row1 col0\" >Random Forest Classifier</td>\n",
              "      <td id=\"T_c6e0e_row1_col1\" class=\"data row1 col1\" >0.9204</td>\n",
              "      <td id=\"T_c6e0e_row1_col2\" class=\"data row1 col2\" >0.9576</td>\n",
              "      <td id=\"T_c6e0e_row1_col3\" class=\"data row1 col3\" >0.8886</td>\n",
              "      <td id=\"T_c6e0e_row1_col4\" class=\"data row1 col4\" >0.8365</td>\n",
              "      <td id=\"T_c6e0e_row1_col5\" class=\"data row1 col5\" >0.8617</td>\n",
              "      <td id=\"T_c6e0e_row1_col6\" class=\"data row1 col6\" >0.8059</td>\n",
              "      <td id=\"T_c6e0e_row1_col7\" class=\"data row1 col7\" >0.8066</td>\n",
              "      <td id=\"T_c6e0e_row1_col8\" class=\"data row1 col8\" >15.3610</td>\n",
              "    </tr>\n",
              "    <tr>\n",
              "      <th id=\"T_c6e0e_level0_row2\" class=\"row_heading level0 row2\" >ridge</th>\n",
              "      <td id=\"T_c6e0e_row2_col0\" class=\"data row2 col0\" >Ridge Classifier</td>\n",
              "      <td id=\"T_c6e0e_row2_col1\" class=\"data row2 col1\" >0.9057</td>\n",
              "      <td id=\"T_c6e0e_row2_col2\" class=\"data row2 col2\" >0.0000</td>\n",
              "      <td id=\"T_c6e0e_row2_col3\" class=\"data row2 col3\" >0.8126</td>\n",
              "      <td id=\"T_c6e0e_row2_col4\" class=\"data row2 col4\" >0.8439</td>\n",
              "      <td id=\"T_c6e0e_row2_col5\" class=\"data row2 col5\" >0.8279</td>\n",
              "      <td id=\"T_c6e0e_row2_col6\" class=\"data row2 col6\" >0.7630</td>\n",
              "      <td id=\"T_c6e0e_row2_col7\" class=\"data row2 col7\" >0.7633</td>\n",
              "      <td id=\"T_c6e0e_row2_col8\" class=\"data row2 col8\" >0.2130</td>\n",
              "    </tr>\n",
              "    <tr>\n",
              "      <th id=\"T_c6e0e_level0_row3\" class=\"row_heading level0 row3\" >knn</th>\n",
              "      <td id=\"T_c6e0e_row3_col0\" class=\"data row3 col0\" >K Neighbors Classifier</td>\n",
              "      <td id=\"T_c6e0e_row3_col1\" class=\"data row3 col1\" >0.8972</td>\n",
              "      <td id=\"T_c6e0e_row3_col2\" class=\"data row3 col2\" >0.9090</td>\n",
              "      <td id=\"T_c6e0e_row3_col3\" class=\"data row3 col3\" >0.8002</td>\n",
              "      <td id=\"T_c6e0e_row3_col4\" class=\"data row3 col4\" >0.8261</td>\n",
              "      <td id=\"T_c6e0e_row3_col5\" class=\"data row3 col5\" >0.8129</td>\n",
              "      <td id=\"T_c6e0e_row3_col6\" class=\"data row3 col6\" >0.7421</td>\n",
              "      <td id=\"T_c6e0e_row3_col7\" class=\"data row3 col7\" >0.7423</td>\n",
              "      <td id=\"T_c6e0e_row3_col8\" class=\"data row3 col8\" >50.6590</td>\n",
              "    </tr>\n",
              "    <tr>\n",
              "      <th id=\"T_c6e0e_level0_row4\" class=\"row_heading level0 row4\" >svm</th>\n",
              "      <td id=\"T_c6e0e_row4_col0\" class=\"data row4 col0\" >SVM - Linear Kernel</td>\n",
              "      <td id=\"T_c6e0e_row4_col1\" class=\"data row4 col1\" >0.7610</td>\n",
              "      <td id=\"T_c6e0e_row4_col2\" class=\"data row4 col2\" >0.0000</td>\n",
              "      <td id=\"T_c6e0e_row4_col3\" class=\"data row4 col3\" >0.6711</td>\n",
              "      <td id=\"T_c6e0e_row4_col4\" class=\"data row4 col4\" >0.5671</td>\n",
              "      <td id=\"T_c6e0e_row4_col5\" class=\"data row4 col5\" >0.6077</td>\n",
              "      <td id=\"T_c6e0e_row4_col6\" class=\"data row4 col6\" >0.4397</td>\n",
              "      <td id=\"T_c6e0e_row4_col7\" class=\"data row4 col7\" >0.4492</td>\n",
              "      <td id=\"T_c6e0e_row4_col8\" class=\"data row4 col8\" >0.3830</td>\n",
              "    </tr>\n",
              "  </tbody>\n",
              "</table>\n"
            ],
            "text/plain": [
              "<pandas.io.formats.style.Styler at 0x7fb3e4e538e0>"
            ]
          },
          "metadata": {},
          "output_type": "display_data"
        }
      ],
      "source": [
        "# comparação dos modelos escolhidos\n",
        "\n",
        "best_model = clf.compare_models(include=['lightgbm','rf','svm','ridge','knn'], sort='F1') #"
      ]
    },
    {
      "cell_type": "markdown",
      "metadata": {},
      "source": [
        "Em todos os experimentos, ficou evidente a superioridade das árvores de decisão, com o LGBM alcançando a expressiva taxa de 84% de precisão em quase todos os experimentos. Embora o RIDGE tenha superado esta precisão no E1 e no E3, o recall foi consideravelmente menor. O balanceamento sintético das classes não afetou os algoritmos LGBM e RF, mas resultou em queda de performance para os outros modelos. Dada a performance estável e constantemente superior do algoritmo, considerou-se como melhor modelo o LGBM treinado no experimento E4 (modelo base). O critério de desempate foi a simplicidade do dataset e a maior quantidade de variáveis, o que facilita a etapa de pré-processamento em um ambiente de produção e permite uma análise mais abrangente dos resultados. "
      ]
    },
    {
      "cell_type": "code",
      "execution_count": 134,
      "metadata": {
        "id": "KWUXSukG6Iym"
      },
      "outputs": [
        {
          "data": {
            "text/html": [
              "<style type=\"text/css\">\n",
              "#T_01e68_row10_col0, #T_01e68_row10_col1, #T_01e68_row10_col2, #T_01e68_row10_col3, #T_01e68_row10_col4, #T_01e68_row10_col5, #T_01e68_row10_col6 {\n",
              "  background: yellow;\n",
              "}\n",
              "</style>\n",
              "<table id=\"T_01e68\">\n",
              "  <thead>\n",
              "    <tr>\n",
              "      <th class=\"blank level0\" >&nbsp;</th>\n",
              "      <th id=\"T_01e68_level0_col0\" class=\"col_heading level0 col0\" >Accuracy</th>\n",
              "      <th id=\"T_01e68_level0_col1\" class=\"col_heading level0 col1\" >AUC</th>\n",
              "      <th id=\"T_01e68_level0_col2\" class=\"col_heading level0 col2\" >Recall</th>\n",
              "      <th id=\"T_01e68_level0_col3\" class=\"col_heading level0 col3\" >Prec.</th>\n",
              "      <th id=\"T_01e68_level0_col4\" class=\"col_heading level0 col4\" >F1</th>\n",
              "      <th id=\"T_01e68_level0_col5\" class=\"col_heading level0 col5\" >Kappa</th>\n",
              "      <th id=\"T_01e68_level0_col6\" class=\"col_heading level0 col6\" >MCC</th>\n",
              "    </tr>\n",
              "    <tr>\n",
              "      <th class=\"index_name level0\" >Fold</th>\n",
              "      <th class=\"blank col0\" >&nbsp;</th>\n",
              "      <th class=\"blank col1\" >&nbsp;</th>\n",
              "      <th class=\"blank col2\" >&nbsp;</th>\n",
              "      <th class=\"blank col3\" >&nbsp;</th>\n",
              "      <th class=\"blank col4\" >&nbsp;</th>\n",
              "      <th class=\"blank col5\" >&nbsp;</th>\n",
              "      <th class=\"blank col6\" >&nbsp;</th>\n",
              "    </tr>\n",
              "  </thead>\n",
              "  <tbody>\n",
              "    <tr>\n",
              "      <th id=\"T_01e68_level0_row0\" class=\"row_heading level0 row0\" >0</th>\n",
              "      <td id=\"T_01e68_row0_col0\" class=\"data row0 col0\" >0.9289</td>\n",
              "      <td id=\"T_01e68_row0_col1\" class=\"data row0 col1\" >0.9612</td>\n",
              "      <td id=\"T_01e68_row0_col2\" class=\"data row0 col2\" >0.9119</td>\n",
              "      <td id=\"T_01e68_row0_col3\" class=\"data row0 col3\" >0.8456</td>\n",
              "      <td id=\"T_01e68_row0_col4\" class=\"data row0 col4\" >0.8775</td>\n",
              "      <td id=\"T_01e68_row0_col5\" class=\"data row0 col5\" >0.8276</td>\n",
              "      <td id=\"T_01e68_row0_col6\" class=\"data row0 col6\" >0.8287</td>\n",
              "    </tr>\n",
              "    <tr>\n",
              "      <th id=\"T_01e68_level0_row1\" class=\"row_heading level0 row1\" >1</th>\n",
              "      <td id=\"T_01e68_row1_col0\" class=\"data row1 col0\" >0.9200</td>\n",
              "      <td id=\"T_01e68_row1_col1\" class=\"data row1 col1\" >0.9577</td>\n",
              "      <td id=\"T_01e68_row1_col2\" class=\"data row1 col2\" >0.8986</td>\n",
              "      <td id=\"T_01e68_row1_col3\" class=\"data row1 col3\" >0.8290</td>\n",
              "      <td id=\"T_01e68_row1_col4\" class=\"data row1 col4\" >0.8624</td>\n",
              "      <td id=\"T_01e68_row1_col5\" class=\"data row1 col5\" >0.8061</td>\n",
              "      <td id=\"T_01e68_row1_col6\" class=\"data row1 col6\" >0.8074</td>\n",
              "    </tr>\n",
              "    <tr>\n",
              "      <th id=\"T_01e68_level0_row2\" class=\"row_heading level0 row2\" >2</th>\n",
              "      <td id=\"T_01e68_row2_col0\" class=\"data row2 col0\" >0.9217</td>\n",
              "      <td id=\"T_01e68_row2_col1\" class=\"data row2 col1\" >0.9599</td>\n",
              "      <td id=\"T_01e68_row2_col2\" class=\"data row2 col2\" >0.9028</td>\n",
              "      <td id=\"T_01e68_row2_col3\" class=\"data row2 col3\" >0.8313</td>\n",
              "      <td id=\"T_01e68_row2_col4\" class=\"data row2 col4\" >0.8655</td>\n",
              "      <td id=\"T_01e68_row2_col5\" class=\"data row2 col5\" >0.8105</td>\n",
              "      <td id=\"T_01e68_row2_col6\" class=\"data row2 col6\" >0.8118</td>\n",
              "    </tr>\n",
              "    <tr>\n",
              "      <th id=\"T_01e68_level0_row3\" class=\"row_heading level0 row3\" >3</th>\n",
              "      <td id=\"T_01e68_row3_col0\" class=\"data row3 col0\" >0.9261</td>\n",
              "      <td id=\"T_01e68_row3_col1\" class=\"data row3 col1\" >0.9601</td>\n",
              "      <td id=\"T_01e68_row3_col2\" class=\"data row3 col2\" >0.9082</td>\n",
              "      <td id=\"T_01e68_row3_col3\" class=\"data row3 col3\" >0.8402</td>\n",
              "      <td id=\"T_01e68_row3_col4\" class=\"data row3 col4\" >0.8728</td>\n",
              "      <td id=\"T_01e68_row3_col5\" class=\"data row3 col5\" >0.8209</td>\n",
              "      <td id=\"T_01e68_row3_col6\" class=\"data row3 col6\" >0.8221</td>\n",
              "    </tr>\n",
              "    <tr>\n",
              "      <th id=\"T_01e68_level0_row4\" class=\"row_heading level0 row4\" >4</th>\n",
              "      <td id=\"T_01e68_row4_col0\" class=\"data row4 col0\" >0.9230</td>\n",
              "      <td id=\"T_01e68_row4_col1\" class=\"data row4 col1\" >0.9584</td>\n",
              "      <td id=\"T_01e68_row4_col2\" class=\"data row4 col2\" >0.9048</td>\n",
              "      <td id=\"T_01e68_row4_col3\" class=\"data row4 col3\" >0.8335</td>\n",
              "      <td id=\"T_01e68_row4_col4\" class=\"data row4 col4\" >0.8677</td>\n",
              "      <td id=\"T_01e68_row4_col5\" class=\"data row4 col5\" >0.8135</td>\n",
              "      <td id=\"T_01e68_row4_col6\" class=\"data row4 col6\" >0.8149</td>\n",
              "    </tr>\n",
              "    <tr>\n",
              "      <th id=\"T_01e68_level0_row5\" class=\"row_heading level0 row5\" >5</th>\n",
              "      <td id=\"T_01e68_row5_col0\" class=\"data row5 col0\" >0.9241</td>\n",
              "      <td id=\"T_01e68_row5_col1\" class=\"data row5 col1\" >0.9593</td>\n",
              "      <td id=\"T_01e68_row5_col2\" class=\"data row5 col2\" >0.8977</td>\n",
              "      <td id=\"T_01e68_row5_col3\" class=\"data row5 col3\" >0.8412</td>\n",
              "      <td id=\"T_01e68_row5_col4\" class=\"data row5 col4\" >0.8686</td>\n",
              "      <td id=\"T_01e68_row5_col5\" class=\"data row5 col5\" >0.8153</td>\n",
              "      <td id=\"T_01e68_row5_col6\" class=\"data row5 col6\" >0.8162</td>\n",
              "    </tr>\n",
              "    <tr>\n",
              "      <th id=\"T_01e68_level0_row6\" class=\"row_heading level0 row6\" >6</th>\n",
              "      <td id=\"T_01e68_row6_col0\" class=\"data row6 col0\" >0.9262</td>\n",
              "      <td id=\"T_01e68_row6_col1\" class=\"data row6 col1\" >0.9643</td>\n",
              "      <td id=\"T_01e68_row6_col2\" class=\"data row6 col2\" >0.9078</td>\n",
              "      <td id=\"T_01e68_row6_col3\" class=\"data row6 col3\" >0.8407</td>\n",
              "      <td id=\"T_01e68_row6_col4\" class=\"data row6 col4\" >0.8730</td>\n",
              "      <td id=\"T_01e68_row6_col5\" class=\"data row6 col5\" >0.8211</td>\n",
              "      <td id=\"T_01e68_row6_col6\" class=\"data row6 col6\" >0.8223</td>\n",
              "    </tr>\n",
              "    <tr>\n",
              "      <th id=\"T_01e68_level0_row7\" class=\"row_heading level0 row7\" >7</th>\n",
              "      <td id=\"T_01e68_row7_col0\" class=\"data row7 col0\" >0.9238</td>\n",
              "      <td id=\"T_01e68_row7_col1\" class=\"data row7 col1\" >0.9627</td>\n",
              "      <td id=\"T_01e68_row7_col2\" class=\"data row7 col2\" >0.8986</td>\n",
              "      <td id=\"T_01e68_row7_col3\" class=\"data row7 col3\" >0.8397</td>\n",
              "      <td id=\"T_01e68_row7_col4\" class=\"data row7 col4\" >0.8681</td>\n",
              "      <td id=\"T_01e68_row7_col5\" class=\"data row7 col5\" >0.8146</td>\n",
              "      <td id=\"T_01e68_row7_col6\" class=\"data row7 col6\" >0.8156</td>\n",
              "    </tr>\n",
              "    <tr>\n",
              "      <th id=\"T_01e68_level0_row8\" class=\"row_heading level0 row8\" >8</th>\n",
              "      <td id=\"T_01e68_row8_col0\" class=\"data row8 col0\" >0.9199</td>\n",
              "      <td id=\"T_01e68_row8_col1\" class=\"data row8 col1\" >0.9613</td>\n",
              "      <td id=\"T_01e68_row8_col2\" class=\"data row8 col2\" >0.9111</td>\n",
              "      <td id=\"T_01e68_row8_col3\" class=\"data row8 col3\" >0.8216</td>\n",
              "      <td id=\"T_01e68_row8_col4\" class=\"data row8 col4\" >0.8640</td>\n",
              "      <td id=\"T_01e68_row8_col5\" class=\"data row8 col5\" >0.8075</td>\n",
              "      <td id=\"T_01e68_row8_col6\" class=\"data row8 col6\" >0.8097</td>\n",
              "    </tr>\n",
              "    <tr>\n",
              "      <th id=\"T_01e68_level0_row9\" class=\"row_heading level0 row9\" >9</th>\n",
              "      <td id=\"T_01e68_row9_col0\" class=\"data row9 col0\" >0.9259</td>\n",
              "      <td id=\"T_01e68_row9_col1\" class=\"data row9 col1\" >0.9642</td>\n",
              "      <td id=\"T_01e68_row9_col2\" class=\"data row9 col2\" >0.9031</td>\n",
              "      <td id=\"T_01e68_row9_col3\" class=\"data row9 col3\" >0.8426</td>\n",
              "      <td id=\"T_01e68_row9_col4\" class=\"data row9 col4\" >0.8718</td>\n",
              "      <td id=\"T_01e68_row9_col5\" class=\"data row9 col5\" >0.8198</td>\n",
              "      <td id=\"T_01e68_row9_col6\" class=\"data row9 col6\" >0.8208</td>\n",
              "    </tr>\n",
              "    <tr>\n",
              "      <th id=\"T_01e68_level0_row10\" class=\"row_heading level0 row10\" >Mean</th>\n",
              "      <td id=\"T_01e68_row10_col0\" class=\"data row10 col0\" >0.9240</td>\n",
              "      <td id=\"T_01e68_row10_col1\" class=\"data row10 col1\" >0.9609</td>\n",
              "      <td id=\"T_01e68_row10_col2\" class=\"data row10 col2\" >0.9045</td>\n",
              "      <td id=\"T_01e68_row10_col3\" class=\"data row10 col3\" >0.8365</td>\n",
              "      <td id=\"T_01e68_row10_col4\" class=\"data row10 col4\" >0.8692</td>\n",
              "      <td id=\"T_01e68_row10_col5\" class=\"data row10 col5\" >0.8157</td>\n",
              "      <td id=\"T_01e68_row10_col6\" class=\"data row10 col6\" >0.8169</td>\n",
              "    </tr>\n",
              "    <tr>\n",
              "      <th id=\"T_01e68_level0_row11\" class=\"row_heading level0 row11\" >Std</th>\n",
              "      <td id=\"T_01e68_row11_col0\" class=\"data row11 col0\" >0.0028</td>\n",
              "      <td id=\"T_01e68_row11_col1\" class=\"data row11 col1\" >0.0021</td>\n",
              "      <td id=\"T_01e68_row11_col2\" class=\"data row11 col2\" >0.0049</td>\n",
              "      <td id=\"T_01e68_row11_col3\" class=\"data row11 col3\" >0.0071</td>\n",
              "      <td id=\"T_01e68_row11_col4\" class=\"data row11 col4\" >0.0044</td>\n",
              "      <td id=\"T_01e68_row11_col5\" class=\"data row11 col5\" >0.0064</td>\n",
              "      <td id=\"T_01e68_row11_col6\" class=\"data row11 col6\" >0.0062</td>\n",
              "    </tr>\n",
              "  </tbody>\n",
              "</table>\n"
            ],
            "text/plain": [
              "<pandas.io.formats.style.Styler at 0x7fb411e5b580>"
            ]
          },
          "metadata": {},
          "output_type": "display_data"
        }
      ],
      "source": [
        "# tuning dos hiperparâmetros do melhor modelo do experimento\n",
        "\n",
        "res, tun = clf.tune_model(best_model,optimize='F1', n_iter=250, return_tuner=True, early_stopping=True, early_stopping_max_iters=10)"
      ]
    },
    {
      "cell_type": "markdown",
      "metadata": {
        "id": "Di-FeY5YD1Iu"
      },
      "source": [
        "Nesta célula é gerado um *dashboard* onde podemos analisar a performance do melhor modelo de forma mais aprofundada, incluindo relatórios de importância de atributos (Figura 2 no artigo) e performance por classe (Figura 4)."
      ]
    },
    {
      "cell_type": "code",
      "execution_count": 124,
      "metadata": {
        "id": "MHuY5eqX6Iyn"
      },
      "outputs": [
        {
          "data": {
            "application/vnd.jupyter.widget-view+json": {
              "model_id": "b26ade6350384a1da328b8ed7b93dc0a",
              "version_major": 2,
              "version_minor": 0
            },
            "text/plain": [
              "interactive(children=(ToggleButtons(description='Plot Type:', icons=('',), options=(('Hyperparameters', 'param…"
            ]
          },
          "metadata": {},
          "output_type": "display_data"
        }
      ],
      "source": [
        "clf.evaluate_model(best_model)"
      ]
    },
    {
      "cell_type": "markdown",
      "metadata": {
        "id": "uRV7arTq6Iyo"
      },
      "source": [
        "### Análise de Resultados"
      ]
    },
    {
      "cell_type": "code",
      "execution_count": 125,
      "metadata": {
        "id": "6XnKw9uB6Iyp"
      },
      "outputs": [],
      "source": [
        "target='dinn'\n",
        "\n",
        "original = clf.get_config('data_before_preprocess')\n",
        "X = clf.get_config('data_before_preprocess').drop(target,axis=1)\n",
        "y = clf.get_config('data_before_preprocess')[target]\n",
        "X_train = clf.get_config('X_train')\n",
        "X_test = clf.get_config('X_test')\n",
        "y_train = clf.get_config('y_train')\n",
        "y_test = clf.get_config('y_test')\n",
        "\n",
        "preds = best_model.predict(X_test)\n",
        "probs = best_model.predict_proba(X_test)"
      ]
    },
    {
      "cell_type": "code",
      "execution_count": 126,
      "metadata": {
        "id": "3YWyfhLlPWxg"
      },
      "outputs": [],
      "source": [
        "def get_results_per_category(category, X_test, y_test, predictions):\n",
        "    per_cat_results = pd.concat([original.loc[X_test.index,category].reset_index(drop=True),y_test.reset_index(drop=True),pd.Series(predictions)],axis=1,ignore_index=True,)\n",
        "    per_cat_results.columns = [category,'actual','predicted']\n",
        "\n",
        "    return per_cat_results"
      ]
    },
    {
      "cell_type": "code",
      "execution_count": 127,
      "metadata": {
        "id": "DV31k25A6Iys"
      },
      "outputs": [],
      "source": [
        "def get_metrics_per_category(category_results: pd.DataFrame, category: str, actual_col:str = 'actual', predicted_col:str = 'predicted' ):\n",
        "    results = []\n",
        "    index = category_results[category].unique().tolist()\n",
        "    columns=['precision','recall','f-score']\n",
        "    for cat in category_results[category].unique():\n",
        "        df_metrics = category_results.query(f'{category} == @cat')\n",
        "        p = precision_score(df_metrics[actual_col],df_metrics[predicted_col])\n",
        "        r = recall_score(df_metrics[actual_col],df_metrics[predicted_col])\n",
        "        f = f1_score(df_metrics[actual_col],df_metrics[predicted_col])\n",
        "        results.append([p,r,f])\n",
        "\n",
        "    metrics = pd.DataFrame(results,index=index,columns=columns)\n",
        "    metrics.sort_values('f-score',ascending=False)\n",
        "    \n",
        "    return metrics\n"
      ]
    },
    {
      "cell_type": "code",
      "execution_count": 128,
      "metadata": {
        "id": "QPAfZC2S9z45"
      },
      "outputs": [],
      "source": [
        "isic_results = get_results_per_category('isic3_1d',X_test, y_test, preds)\n",
        "country_results = get_results_per_category('country',X_test, y_test, preds)\n",
        "\n",
        "isic_metrics = get_metrics_per_category(isic_results, 'isic3_1d')\n",
        "country_metrics = get_metrics_per_category(country_results, 'country')"
      ]
    },
    {
      "cell_type": "markdown",
      "metadata": {
        "id": "GDc2ZzcgMt72"
      },
      "source": [
        "Dada a predominância de firmas no setor da indústria, os resultados foram estudados em relação a cada valor da variável *isic3_1d*. Como podemos ver, a precisão não é muito mais baixa quando a firma atua em outros setores econômicos, de forma que o modelo generaliza adequadamente para todos."
      ]
    },
    {
      "cell_type": "code",
      "execution_count": 129,
      "metadata": {
        "id": "NVYnMeqO-A5e"
      },
      "outputs": [
        {
          "data": {
            "text/html": [
              "<div>\n",
              "<style scoped>\n",
              "    .dataframe tbody tr th:only-of-type {\n",
              "        vertical-align: middle;\n",
              "    }\n",
              "\n",
              "    .dataframe tbody tr th {\n",
              "        vertical-align: top;\n",
              "    }\n",
              "\n",
              "    .dataframe thead th {\n",
              "        text-align: right;\n",
              "    }\n",
              "</style>\n",
              "<table border=\"1\" class=\"dataframe\">\n",
              "  <thead>\n",
              "    <tr style=\"text-align: right;\">\n",
              "      <th></th>\n",
              "      <th>precision</th>\n",
              "      <th>recall</th>\n",
              "      <th>f-score</th>\n",
              "    </tr>\n",
              "  </thead>\n",
              "  <tbody>\n",
              "    <tr>\n",
              "      <th>other</th>\n",
              "      <td>0.794466</td>\n",
              "      <td>0.879265</td>\n",
              "      <td>0.834718</td>\n",
              "    </tr>\n",
              "    <tr>\n",
              "      <th>Manufacturing</th>\n",
              "      <td>0.887461</td>\n",
              "      <td>0.923052</td>\n",
              "      <td>0.904907</td>\n",
              "    </tr>\n",
              "    <tr>\n",
              "      <th>Wholesale and retail trade</th>\n",
              "      <td>0.784512</td>\n",
              "      <td>0.781879</td>\n",
              "      <td>0.783193</td>\n",
              "    </tr>\n",
              "    <tr>\n",
              "      <th>NaN</th>\n",
              "      <td>0.000000</td>\n",
              "      <td>0.000000</td>\n",
              "      <td>0.000000</td>\n",
              "    </tr>\n",
              "  </tbody>\n",
              "</table>\n",
              "</div>"
            ],
            "text/plain": [
              "                            precision    recall   f-score\n",
              "other                        0.794466  0.879265  0.834718\n",
              "Manufacturing                0.887461  0.923052  0.904907\n",
              "Wholesale and retail trade   0.784512  0.781879  0.783193\n",
              "NaN                          0.000000  0.000000  0.000000"
            ]
          },
          "execution_count": 129,
          "metadata": {},
          "output_type": "execute_result"
        }
      ],
      "source": [
        "isic_metrics"
      ]
    },
    {
      "cell_type": "markdown",
      "metadata": {
        "id": "udMAu2hTM6EP"
      },
      "source": [
        "Assim como os setores de atuação, há grande desbalanceamento na quantidade de instâncias entre os países considerados, com a Colômbia correspondendo a 62% dos dados. Mas, neste caso, a variável country não possui importância destacada para o modelo. Isto é reforçado quando se analisa as métricas por país, que permitem observar certa constância na performance, especialmente quando analisado o f-score, exceto pelo Chile, aquele mais distante do Brasil de acordo com o critério utilizado para a seleção dos países."
      ]
    },
    {
      "cell_type": "code",
      "execution_count": 130,
      "metadata": {
        "id": "hwdBOwhc-CNi"
      },
      "outputs": [
        {
          "data": {
            "text/html": [
              "<div>\n",
              "<style scoped>\n",
              "    .dataframe tbody tr th:only-of-type {\n",
              "        vertical-align: middle;\n",
              "    }\n",
              "\n",
              "    .dataframe tbody tr th {\n",
              "        vertical-align: top;\n",
              "    }\n",
              "\n",
              "    .dataframe thead th {\n",
              "        text-align: right;\n",
              "    }\n",
              "</style>\n",
              "<table border=\"1\" class=\"dataframe\">\n",
              "  <thead>\n",
              "    <tr style=\"text-align: right;\">\n",
              "      <th></th>\n",
              "      <th>precision</th>\n",
              "      <th>recall</th>\n",
              "      <th>f-score</th>\n",
              "    </tr>\n",
              "  </thead>\n",
              "  <tbody>\n",
              "    <tr>\n",
              "      <th>Chile</th>\n",
              "      <td>0.765112</td>\n",
              "      <td>0.824186</td>\n",
              "      <td>0.793551</td>\n",
              "    </tr>\n",
              "    <tr>\n",
              "      <th>Colombia</th>\n",
              "      <td>0.858716</td>\n",
              "      <td>0.910506</td>\n",
              "      <td>0.883853</td>\n",
              "    </tr>\n",
              "    <tr>\n",
              "      <th>Uruguay</th>\n",
              "      <td>0.852273</td>\n",
              "      <td>0.959781</td>\n",
              "      <td>0.902837</td>\n",
              "    </tr>\n",
              "    <tr>\n",
              "      <th>Argentina</th>\n",
              "      <td>0.916588</td>\n",
              "      <td>0.936108</td>\n",
              "      <td>0.926245</td>\n",
              "    </tr>\n",
              "    <tr>\n",
              "      <th>Peru</th>\n",
              "      <td>0.878505</td>\n",
              "      <td>0.975779</td>\n",
              "      <td>0.924590</td>\n",
              "    </tr>\n",
              "  </tbody>\n",
              "</table>\n",
              "</div>"
            ],
            "text/plain": [
              "           precision    recall   f-score\n",
              "Chile       0.765112  0.824186  0.793551\n",
              "Colombia    0.858716  0.910506  0.883853\n",
              "Uruguay     0.852273  0.959781  0.902837\n",
              "Argentina   0.916588  0.936108  0.926245\n",
              "Peru        0.878505  0.975779  0.924590"
            ]
          },
          "execution_count": 130,
          "metadata": {},
          "output_type": "execute_result"
        }
      ],
      "source": [
        "country_metrics"
      ]
    },
    {
      "cell_type": "markdown",
      "metadata": {
        "id": "EPYGWBhV6Iyv"
      },
      "source": [
        "### SHAP"
      ]
    },
    {
      "cell_type": "markdown",
      "metadata": {
        "id": "MfHgPSpLNdmH"
      },
      "source": [
        "A abordagem de valores SHAP foi utilizada para esclarecer as predições realizadas. Após a aplicação do modelo, é possível obter como retorno, além da classificação de determinada firma, o impacto de todos os atributos que influenciaram nesta predição. Do ponto de vista da utilização do modelo por instituições públicas, essa informação pode ser relevante para fundamentar a decisão perante órgãos externos de controle, por exemplo."
      ]
    },
    {
      "cell_type": "code",
      "execution_count": null,
      "metadata": {
        "id": "a900M6_46Iyw"
      },
      "outputs": [],
      "source": [
        "sample_size = 2000\n",
        "clf.interpret_model(best_model, plot='reason', observation=1)"
      ]
    },
    {
      "cell_type": "markdown",
      "metadata": {
        "id": "XvCmabrNNiH1"
      },
      "source": [
        "### *Deploy* do modelo"
      ]
    },
    {
      "cell_type": "markdown",
      "metadata": {
        "id": "5zbE_fguOz39"
      },
      "source": [
        "Finalmente, o modelo foi retreinado com o dataset completo e serializado, para prepará-lo para uso."
      ]
    },
    {
      "cell_type": "code",
      "execution_count": null,
      "metadata": {
        "id": "r5nGhQVR6Iyy"
      },
      "outputs": [],
      "source": [
        "clf.finalize_model(best_model)"
      ]
    },
    {
      "cell_type": "code",
      "execution_count": null,
      "metadata": {
        "id": "zVgc2JOtOtUR"
      },
      "outputs": [],
      "source": [
        "clf.save_model(best_model, 'final_model')"
      ]
    }
  ],
  "metadata": {
    "colab": {
      "provenance": []
    },
    "kernelspec": {
      "display_name": "Python 3.8.13 ('tcc')",
      "language": "python",
      "name": "python3"
    },
    "language_info": {
      "codemirror_mode": {
        "name": "ipython",
        "version": 3
      },
      "file_extension": ".py",
      "mimetype": "text/x-python",
      "name": "python",
      "nbconvert_exporter": "python",
      "pygments_lexer": "ipython3",
      "version": "3.8.13"
    },
    "orig_nbformat": 4,
    "vscode": {
      "interpreter": {
        "hash": "a7183968e60a2093404da759786a0f606ed445bd6c2a2330252d2dca843f3ed1"
      }
    }
  },
  "nbformat": 4,
  "nbformat_minor": 0
}
